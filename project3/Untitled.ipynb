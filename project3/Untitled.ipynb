{
 "cells": [
  {
   "cell_type": "code",
   "execution_count": 302,
   "id": "d26e4d75",
   "metadata": {},
   "outputs": [],
   "source": [
    "###imports\n",
    "import cv2\n",
    "import numpy as np"
   ]
  },
  {
   "cell_type": "markdown",
   "id": "25943587",
   "metadata": {},
   "source": [
    "<br>\n",
    "\n",
    "Task 1\n",
    "\n",
    "<br>"
   ]
  },
  {
   "cell_type": "code",
   "execution_count": 38,
   "id": "b385f53b",
   "metadata": {},
   "outputs": [],
   "source": [
    "def find_image_coordinates(img, image_path):\n",
    "    \n",
    "\n",
    "    # Display the image and allow user to select 5 points\n",
    "    points = []\n",
    "\n",
    "    def select_point(event, x, y, flags, param):\n",
    "        # Register the mouse callback function\n",
    "        if event == cv2.EVENT_LBUTTONDOWN and len(points) < 5:\n",
    "            # Append the image coordinates of the selected point to the list\n",
    "            points.append((x, y))\n",
    "            cv2.circle(img, (x, y), 5, (0, 0, 255), -1)\n",
    "            cv2.putText(img, str(len(points)), (x + 10, y), cv2.FONT_HERSHEY_SIMPLEX, 0.5, (0, 0, 255), 2)\n",
    "            cv2.imshow(\"Image\", img)\n",
    "\n",
    "    cv2.namedWindow(\"Image\")\n",
    "    cv2.setMouseCallback(\"Image\", select_point)\n",
    "\n",
    "    while True:\n",
    "        cv2.imshow(\"Image\", img)\n",
    "        if cv2.waitKey(0) or len(points) == 5:  # Press Esc or select 10 points to exit\n",
    "            break\n",
    "\n",
    "    cv2.destroyAllWindows()\n",
    "    return points"
   ]
  },
  {
   "cell_type": "code",
   "execution_count": 39,
   "id": "24104a96",
   "metadata": {},
   "outputs": [],
   "source": [
    "## for path to iindividual images\n",
    "image_path1 = \"house1.png\"  \n",
    "image_path2 = \"house2.png\"  "
   ]
  },
  {
   "cell_type": "code",
   "execution_count": 40,
   "id": "bfbd52f1",
   "metadata": {},
   "outputs": [],
   "source": [
    "# Load the image and read the world coordinates\n",
    "\n",
    "img1 = cv2.imread('house1.png')\n",
    "img2 = cv2.imread('house2.png')"
   ]
  },
  {
   "cell_type": "code",
   "execution_count": 41,
   "id": "675ea39a",
   "metadata": {},
   "outputs": [
    {
     "data": {
      "text/plain": [
       "[(234, 409), (375, 342), (415, 432), (638, 346), (572, 247)]"
      ]
     },
     "execution_count": 41,
     "metadata": {},
     "output_type": "execute_result"
    }
   ],
   "source": [
    "##get the points of image 1\n",
    "\n",
    "image_points1 = find_image_coordinates(img1, image_path1)\n",
    "image_points1"
   ]
  },
  {
   "cell_type": "code",
   "execution_count": 42,
   "id": "7e7ffe93",
   "metadata": {},
   "outputs": [
    {
     "data": {
      "text/plain": [
       "[(238, 440), (325, 371), (343, 473), (572, 395), (422, 254)]"
      ]
     },
     "execution_count": 42,
     "metadata": {},
     "output_type": "execute_result"
    }
   ],
   "source": [
    "##get the points of image 2\n",
    "img2 = cv2.imread('house2.png')\n",
    "image_points2 = find_image_coordinates(img2, image_path2)\n",
    "image_points2"
   ]
  },
  {
   "cell_type": "markdown",
   "id": "ca393cea",
   "metadata": {},
   "source": [
    "8 Point Algorithm\n",
    "------------------------\n",
    "\n",
    "0. (Normalize points)\n",
    "1. Construct the M x 9 matrix A\n",
    "2. Find the SVD of ATA\n",
    "3. Entries of F are the elements of column of\n",
    "V corresponding to the least singular value\n",
    "4. (Enforce rank 2 constraint on F)\n",
    "5. (Un-normalize F)"
   ]
  },
  {
   "cell_type": "code",
   "execution_count": 291,
   "id": "d024ec5a",
   "metadata": {},
   "outputs": [],
   "source": [
    "\n",
    "# Convert image points to homogeneous coordinates\n",
    "image_points1_homo = np.hstack((image_points1, np.ones((len(image_points1), 1))))\n",
    "image_points2_homo = np.hstack((image_points2, np.ones((len(image_points2), 1))))\n",
    "\n",
    "# Normalize image points\n",
    "image_points1_normalized = cv2.normalize(image_points1_homo, None, alpha=-1, beta=1, norm_type=cv2.NORM_MINMAX, dtype=cv2.CV_32F)\n",
    "image_points2_normalized = cv2.normalize(image_points2_homo, None, alpha=-1, beta=1, norm_type=cv2.NORM_MINMAX, dtype=cv2.CV_32F)\n"
   ]
  },
  {
   "cell_type": "code",
   "execution_count": 292,
   "id": "e585e540",
   "metadata": {},
   "outputs": [],
   "source": [
    "###construct Mx9 matrix A\n",
    "\n",
    "A = np.zeros((len(image_points2_normalized), 9))\n",
    "\n",
    "for i in range(len(image_points2_normalized)-1):\n",
    "    A[i] = np.concatenate([np.array([0, 0, 0]), - image_points2_normalized[i][2] * image_points1_normalized[i], image_points2_normalized[i][1] * image_points1_normalized[i]])\n",
    "    A[i + 1] = np.concatenate([image_points2_normalized[i][2] * image_points1_normalized[i], np.array([0, 0, 0]), - image_points2_normalized[i][0] * image_points1_normalized[i]])\n"
   ]
  },
  {
   "cell_type": "code",
   "execution_count": 293,
   "id": "64e9ab94",
   "metadata": {},
   "outputs": [
    {
     "data": {
      "text/plain": [
       "array([[-0.19372915, -0.01611875,  0.19372915, -0.2469848 , -0.13775268,\n",
       "         0.69097449, -0.29540533, -0.09308435,  0.52088979],\n",
       "       [-0.47510512, -0.03952995,  0.47510512,  0.16150123,  0.10164613,\n",
       "        -0.53649658, -0.41202619,  0.01564395,  0.22963919],\n",
       "       [ 0.04681742,  0.00389533, -0.04681742, -0.87301262,  0.18259416,\n",
       "        -0.17850254, -0.30652009,  0.11468388, -0.24726365],\n",
       "       [-0.24909889, -0.02072566,  0.24909889,  0.16288213,  0.58196445,\n",
       "         0.40953281,  0.04700054,  0.42966277, -0.39461432],\n",
       "       [-0.19172305, -0.01595184,  0.19172305, -0.32104047,  0.02538071,\n",
       "        -0.15244813,  0.75132804,  0.28636067,  0.39087368],\n",
       "       [-0.66136308, -0.08038454, -0.7281802 ,  0.00243741,  0.12805942,\n",
       "        -0.00975881,  0.00700762, -0.07505675,  0.06089163],\n",
       "       [ 0.25964507, -0.84746739, -0.14544798,  0.07259809,  0.07358659,\n",
       "        -0.04843205, -0.13905332,  0.3331971 ,  0.22325114],\n",
       "       [-0.26981007, -0.52201661,  0.29037382, -0.12567528, -0.19010789,\n",
       "         0.08790285,  0.23488527, -0.53372918, -0.41313933],\n",
       "       [-0.24110191,  0.01773096,  0.00508148,  0.00982645, -0.73489429,\n",
       "         0.04167905, -0.08807186,  0.55660128, -0.28646936]])"
      ]
     },
     "execution_count": 293,
     "metadata": {},
     "output_type": "execute_result"
    }
   ],
   "source": [
    "\n",
    "_, _, V  = np.linalg.svd(A.T  @ A)\n",
    "V"
   ]
  },
  {
   "cell_type": "code",
   "execution_count": 294,
   "id": "4310f429",
   "metadata": {},
   "outputs": [
    {
     "data": {
      "text/plain": [
       "array([[ 0.52088979,  0.22963919, -0.24726365],\n",
       "       [-0.39461432,  0.39087368,  0.06089163],\n",
       "       [ 0.22325114, -0.41313933, -0.28646936]])"
      ]
     },
     "execution_count": 294,
     "metadata": {},
     "output_type": "execute_result"
    }
   ],
   "source": [
    "##the fundamental matrix \n",
    "F = V[: ,8].reshape(3, 3) \n",
    "F"
   ]
  },
  {
   "cell_type": "code",
   "execution_count": 295,
   "id": "d1059167",
   "metadata": {},
   "outputs": [
    {
     "data": {
      "text/plain": [
       "array([[ 0.42606107],\n",
       "       [-0.06792765],\n",
       "       [ 0.90214068]])"
      ]
     },
     "execution_count": 295,
     "metadata": {},
     "output_type": "execute_result"
    }
   ],
   "source": [
    "ePrime"
   ]
  },
  {
   "cell_type": "code",
   "execution_count": 296,
   "id": "b0a29930",
   "metadata": {},
   "outputs": [
    {
     "data": {
      "text/plain": [
       "array([[ 0.52801975,  0.22850245, -0.2321667 ],\n",
       "       [-0.33507309,  0.38138092,  0.18696409],\n",
       "       [ 0.28087737, -0.42232678, -0.16445171]])"
      ]
     },
     "execution_count": 296,
     "metadata": {},
     "output_type": "execute_result"
    }
   ],
   "source": [
    "##enforcing the rank 2 constraint on F\n",
    "s, v, d = np.linalg.svd(F)\n",
    "F =  s @ np.diag([*v[:2], 0]) @ d\n",
    "F"
   ]
  },
  {
   "cell_type": "code",
   "execution_count": 297,
   "id": "b81749f0",
   "metadata": {},
   "outputs": [],
   "source": [
    "#denormalise matrix\n",
    "# F = image_points2_homo.T @ F @ image_points1_homo\n",
    "# F"
   ]
  },
  {
   "cell_type": "markdown",
   "id": "1c889027",
   "metadata": {},
   "source": [
    "<br>\n",
    "\n",
    "Task 2\n",
    "\n",
    "<br>"
   ]
  },
  {
   "cell_type": "code",
   "execution_count": 298,
   "id": "e77d66b6",
   "metadata": {},
   "outputs": [
    {
     "data": {
      "text/plain": [
       "array([-0.42606107,  0.06792765, -0.90214068])"
      ]
     },
     "execution_count": 298,
     "metadata": {},
     "output_type": "execute_result"
    }
   ],
   "source": [
    "##got the value from the calculation of the s,d above\n",
    "e = d[-1]\n",
    "e"
   ]
  },
  {
   "cell_type": "code",
   "execution_count": 299,
   "id": "347229e4",
   "metadata": {},
   "outputs": [
    {
     "data": {
      "text/plain": [
       "array([[ 0.42606107],\n",
       "       [-0.06792765],\n",
       "       [ 0.90214068]])"
      ]
     },
     "execution_count": 299,
     "metadata": {},
     "output_type": "execute_result"
    }
   ],
   "source": [
    "###epipole from fundamental meatrix\n",
    "ePrime = cv2.normalize(e, None, alpha=-1)\n",
    "ePrime"
   ]
  },
  {
   "cell_type": "code",
   "execution_count": 303,
   "id": "6f805b02",
   "metadata": {},
   "outputs": [],
   "source": [
    "#### linear triangulation method using the DLT as described in\n",
    "##Sec. 12.2 in the book Multiple View Geometry\n",
    "\n",
    "num_points = len(image_points1)\n",
    "points_3d = np.zeros((num_points, 3))\n",
    "\n",
    "##canonical camera pair p and p' \n",
    "P = np.zeros(len(image_points2_normalized))\n",
    "P = np.eye(3)\n",
    "P_prime = ePrime.T @ F* ePrime\n",
    "\n",
    "\n",
    "for i in range(num_points):\n",
    "    x1, y1 = image_points1[i]\n",
    "    x2, y2 = image_points2[i]\n",
    "\n",
    "    # Homogeneous image coordinates\n",
    "    x1_homo = np.array([[x1], [y1], [1]])\n",
    "    x2_homo = np.array([[x2], [y2], [1]])\n",
    "\n",
    "    # Linear triangulation - method from the book\n",
    "    A = np.zeros((len(image_points2_normalized), 3))\n",
    "    A[0] = x1_homo[0] * P[2] - P[0]\n",
    "    A[1] = x1_homo[1] * P[2] - P[1]\n",
    "    A[2] = x2_homo[0] * P_prime[2] - P_prime[0]\n",
    "    A[3] = x2_homo[1] * P_prime[2] - P_prime[1]\n",
    "\n",
    "    _, _, V = np.linalg.svd(A)\n",
    "    X_homo = V[-1]\n",
    "    X_homo /= X_homo[2]  # Normalize by the fourth coordinate\n",
    "\n",
    "    # Convert homogeneous coordinates to 3D coordinates\n",
    "    X = X_homo[:3]\n",
    "\n",
    "    # Store the 3D point\n",
    "    points_3d[i] = X\n"
   ]
  },
  {
   "cell_type": "code",
   "execution_count": 304,
   "id": "57528d61",
   "metadata": {},
   "outputs": [
    {
     "data": {
      "text/plain": [
       "array([[248.1671504 , 400.91217912,   1.        ],\n",
       "       [277.62311986, 448.59342055,   1.        ],\n",
       "       [322.30099415, 520.92268426,   1.        ],\n",
       "       [439.76245164, 711.07554803,   1.        ],\n",
       "       [399.48588637, 645.86793935,   1.        ]])"
      ]
     },
     "execution_count": 304,
     "metadata": {},
     "output_type": "execute_result"
    }
   ],
   "source": [
    "#reconstucted 3d points\n",
    "points_3d"
   ]
  },
  {
   "cell_type": "markdown",
   "id": "8c34ea98",
   "metadata": {},
   "source": [
    "<br>\n",
    "\n",
    "Task 3\n",
    "\n",
    "<br>"
   ]
  },
  {
   "cell_type": "code",
   "execution_count": 305,
   "id": "51cfeefa",
   "metadata": {},
   "outputs": [],
   "source": [
    "world_coords = np.loadtxt('coords.txt')"
   ]
  },
  {
   "cell_type": "code",
   "execution_count": 306,
   "id": "b919c64d",
   "metadata": {},
   "outputs": [
    {
     "name": "stdout",
     "output_type": "stream",
     "text": [
      "-1.0\n",
      "0.015545\n",
      "0.491684\n",
      "0.0\n",
      "1.05319\n",
      "1.22323\n",
      "0.0\n",
      "1.0\n",
      "-1.05319\n",
      "1.0\n"
     ]
    }
   ],
   "source": [
    "###cordinates x in coords.tex\n",
    "\n",
    "for X, Y, _, _ in world_coords:\n",
    "    print(X)"
   ]
  },
  {
   "cell_type": "code",
   "execution_count": null,
   "id": "b35e54d0",
   "metadata": {},
   "outputs": [],
   "source": []
  }
 ],
 "metadata": {
  "kernelspec": {
   "display_name": "Python 3",
   "language": "python",
   "name": "python3"
  },
  "language_info": {
   "codemirror_mode": {
    "name": "ipython",
    "version": 3
   },
   "file_extension": ".py",
   "mimetype": "text/x-python",
   "name": "python",
   "nbconvert_exporter": "python",
   "pygments_lexer": "ipython3",
   "version": "3.8.8"
  }
 },
 "nbformat": 4,
 "nbformat_minor": 5
}
