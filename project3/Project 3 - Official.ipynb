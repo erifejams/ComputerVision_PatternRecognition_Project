{
 "cells": [
  {
   "cell_type": "markdown",
   "id": "d2dcdbcd",
   "metadata": {},
   "source": [
    "Team members: Erifeoluwa Jamgbadi and Krunal Rathod\n",
    "\n",
    "<br>"
   ]
  },
  {
   "cell_type": "code",
   "execution_count": 1161,
   "id": "4d1e9115",
   "metadata": {},
   "outputs": [],
   "source": [
    "###imports\n",
    "import cv2\n",
    "import numpy as np"
   ]
  },
  {
   "cell_type": "markdown",
   "id": "5b365db7",
   "metadata": {},
   "source": [
    "<br>\n",
    "\n",
    "Task 1\n",
    "\n",
    "<br>"
   ]
  },
  {
   "cell_type": "code",
   "execution_count": 1166,
   "id": "f3c970be",
   "metadata": {},
   "outputs": [],
   "source": [
    "def find_image_coordinates(img, image_path):\n",
    "    \n",
    "\n",
    "    # Display the image and allow user to select 5 points\n",
    "    points = []\n",
    "\n",
    "    def select_point(event, x, y, flags, param):\n",
    "        # Register the mouse callback function\n",
    "        if event == cv2.EVENT_LBUTTONDOWN and len(points) < 5:\n",
    "            # Append the image coordinates of the selected point to the list\n",
    "            points.append((x, y))\n",
    "            cv2.circle(img, (x, y), 5, (0, 0, 255), -1)\n",
    "            cv2.putText(img, str(len(points)), (x + 10, y), cv2.FONT_HERSHEY_SIMPLEX, 0.5, (0, 0, 255), 2)\n",
    "            cv2.imshow(\"Image\", img)\n",
    "\n",
    "    cv2.namedWindow(\"Image\")\n",
    "    cv2.setMouseCallback(\"Image\", select_point)\n",
    "\n",
    "    while True:\n",
    "        cv2.imshow(\"Image\", img)\n",
    "        if cv2.waitKey(0) or len(points) == 5:  # Press Esc or select 10 points to exit\n",
    "            break\n",
    "\n",
    "    cv2.destroyAllWindows()\n",
    "    return points"
   ]
  },
  {
   "cell_type": "code",
   "execution_count": 1167,
   "id": "b79e23e0",
   "metadata": {},
   "outputs": [],
   "source": [
    "## for path to iindividual images\n",
    "image_path1 = \"house1.png\"  \n",
    "image_path2 = \"house2.png\"  "
   ]
  },
  {
   "cell_type": "code",
   "execution_count": 1168,
   "id": "01318252",
   "metadata": {},
   "outputs": [],
   "source": [
    "# Load the image and read the world coordinates\n",
    "\n",
    "img1 = cv2.imread('house1.png')\n",
    "img2 = cv2.imread('house2.png')"
   ]
  },
  {
   "cell_type": "code",
   "execution_count": 1169,
   "id": "9b52da80",
   "metadata": {},
   "outputs": [
    {
     "data": {
      "text/plain": [
       "[(234, 410), (373, 342), (412, 429), (639, 347), (569, 245)]"
      ]
     },
     "execution_count": 1169,
     "metadata": {},
     "output_type": "execute_result"
    }
   ],
   "source": [
    "##get the points of image 1\n",
    "\n",
    "image_points1 = find_image_coordinates(img1, image_path1)\n",
    "image_points1"
   ]
  },
  {
   "cell_type": "code",
   "execution_count": 1170,
   "id": "38ebcce2",
   "metadata": {},
   "outputs": [
    {
     "data": {
      "text/plain": [
       "[(239, 440), (322, 372), (342, 472), (573, 395), (420, 254)]"
      ]
     },
     "execution_count": 1170,
     "metadata": {},
     "output_type": "execute_result"
    }
   ],
   "source": [
    "##get the points of image 2\n",
    "img2 = cv2.imread('house2.png')\n",
    "image_points2 = find_image_coordinates(img2, image_path2)\n",
    "image_points2\n"
   ]
  },
  {
   "cell_type": "markdown",
   "id": "9200bb7b",
   "metadata": {},
   "source": [
    "8 Point Algorithm\n",
    "------------------------\n",
    "\n",
    "0. (Normalize points)\n",
    "1. Construct the M x 9 matrix A\n",
    "2. Find the SVD of ATA\n",
    "3. Entries of F are the elements of column of\n",
    "V corresponding to the least singular value\n",
    "4. (Enforce rank 2 constraint on F)\n",
    "5. (Un-normalize F)"
   ]
  },
  {
   "cell_type": "code",
   "execution_count": 1171,
   "id": "eba587b6",
   "metadata": {},
   "outputs": [],
   "source": [
    "\n",
    "# Convert image points to homogeneous coordinates\n",
    "image_points1_homo = np.hstack((image_points1, np.ones((len(image_points1), 1))))\n",
    "image_points2_homo = np.hstack((image_points2, np.ones((len(image_points2), 1))))\n",
    "\n",
    "# Normalize image points\n",
    "image_points1_normalized = cv2.normalize(image_points1_homo, None, alpha=-1, beta=1, norm_type=cv2.NORM_MINMAX, dtype=cv2.CV_32F)\n",
    "image_points2_normalized = cv2.normalize(image_points2_homo, None, alpha=-1, beta=1, norm_type=cv2.NORM_MINMAX, dtype=cv2.CV_32F)\n"
   ]
  },
  {
   "cell_type": "code",
   "execution_count": 1177,
   "id": "7a6a0f35",
   "metadata": {},
   "outputs": [],
   "source": [
    "###construct Mx9 matrix A\n",
    "\n",
    "A = np.zeros((len(image_points2_normalized), 9))\n",
    "#A = np.zeros((2*len(image_points2_normalized), 9))\n",
    "\n",
    "for i in range(len(image_points2_normalized)-1):\n",
    "    A[i] = np.concatenate([np.array([0, 0, 0]), - image_points2_normalized[i][2] * image_points1_normalized[i], image_points2_normalized[i][1] * image_points1_normalized[i]])\n",
    "    A[i + 1] = np.concatenate([image_points2_normalized[i][2] * image_points1_normalized[i], np.array([0, 0, 0]), - image_points2_normalized[i][0] * image_points1_normalized[i]])\n"
   ]
  },
  {
   "cell_type": "code",
   "execution_count": 1178,
   "id": "b7a3163d",
   "metadata": {},
   "outputs": [
    {
     "data": {
      "text/plain": [
       "array([[-0.19525566, -0.01652633,  0.19525568, -0.24357238, -0.13579939,\n",
       "         0.69238532, -0.29427298, -0.09157725,  0.52089149],\n",
       "       [-0.47427114, -0.04014204,  0.4742712 ,  0.15909202,  0.1009542 ,\n",
       "        -0.53850974, -0.4127939 ,  0.01418033,  0.22897092],\n",
       "       [ 0.04723912,  0.00399829, -0.04723912, -0.87537318,  0.17988354,\n",
       "        -0.17601275, -0.3049188 ,  0.11282357, -0.24535592],\n",
       "       [-0.24903829, -0.02107846,  0.24903832,  0.16572596,  0.58031159,\n",
       "         0.40824831,  0.03662577,  0.42209634, -0.40634402],\n",
       "       [-0.23575458, -0.01995413,  0.23575461, -0.32810286, -0.03629649,\n",
       "        -0.1332947 ,  0.76760081,  0.26761108,  0.3176134 ],\n",
       "       [ 0.58495497, -0.33010161,  0.71309176, -0.02290662, -0.09512337,\n",
       "         0.02798015,  0.03447781, -0.10824795, -0.13076071],\n",
       "       [-0.01625453,  0.82302906,  0.30066375, -0.05949998,  0.07231093,\n",
       "         0.03999037,  0.12338372, -0.42521972, -0.15986423],\n",
       "       [ 0.43525109,  0.45251007,  0.02188731,  0.09915992, -0.04054426,\n",
       "        -0.07483013, -0.19715628,  0.67258724,  0.31143508],\n",
       "       [-0.29194219,  0.07840779,  0.13316379, -0.00835379, -0.76485852,\n",
       "         0.08493249, -0.06475971,  0.28982639, -0.45869855]])"
      ]
     },
     "execution_count": 1178,
     "metadata": {},
     "output_type": "execute_result"
    }
   ],
   "source": [
    "\n",
    "_, _, V  = np.linalg.svd(A.T  @ A)\n",
    "V"
   ]
  },
  {
   "cell_type": "code",
   "execution_count": 1179,
   "id": "9d77a7a8",
   "metadata": {},
   "outputs": [
    {
     "data": {
      "text/plain": [
       "array([[-0.19525566, -0.01652633,  0.19525568, -0.24357238, -0.13579939,\n",
       "         0.69238532, -0.29427298, -0.09157725,  0.52089149],\n",
       "       [-0.47427114, -0.04014204,  0.4742712 ,  0.15909202,  0.1009542 ,\n",
       "        -0.53850974, -0.4127939 ,  0.01418033,  0.22897092],\n",
       "       [ 0.04723912,  0.00399829, -0.04723912, -0.87537318,  0.17988354,\n",
       "        -0.17601275, -0.3049188 ,  0.11282357, -0.24535592],\n",
       "       [-0.24903829, -0.02107846,  0.24903832,  0.16572596,  0.58031159,\n",
       "         0.40824831,  0.03662577,  0.42209634, -0.40634402],\n",
       "       [-0.23575458, -0.01995413,  0.23575461, -0.32810286, -0.03629649,\n",
       "        -0.1332947 ,  0.76760081,  0.26761108,  0.3176134 ],\n",
       "       [ 0.58495497, -0.33010161,  0.71309176, -0.02290662, -0.09512337,\n",
       "         0.02798015,  0.03447781, -0.10824795, -0.13076071],\n",
       "       [-0.01625453,  0.82302906,  0.30066375, -0.05949998,  0.07231093,\n",
       "         0.03999037,  0.12338372, -0.42521972, -0.15986423],\n",
       "       [ 0.43525109,  0.45251007,  0.02188731,  0.09915992, -0.04054426,\n",
       "        -0.07483013, -0.19715628,  0.67258724,  0.31143508],\n",
       "       [-0.29194219,  0.07840779,  0.13316379, -0.00835379, -0.76485852,\n",
       "         0.08493249, -0.06475971,  0.28982639, -0.45869855]])"
      ]
     },
     "execution_count": 1179,
     "metadata": {},
     "output_type": "execute_result"
    }
   ],
   "source": [
    "##the fundamental matrix \n",
    "#F = V[: ,8].reshape(3, 3) \n",
    "F = V\n",
    "F"
   ]
  },
  {
   "cell_type": "code",
   "execution_count": 1180,
   "id": "77ac3c79",
   "metadata": {},
   "outputs": [
    {
     "data": {
      "text/plain": [
       "array([ 1.12667631,  0.20330671,  1.49869073,  0.78010913, -1.56176595,\n",
       "       -1.20458344, -0.9304275 , -0.27880549, -0.03256889])"
      ]
     },
     "execution_count": 1180,
     "metadata": {},
     "output_type": "execute_result"
    }
   ],
   "source": [
    "##enforcing the rank 2 constraint on F\n",
    "s, v, d = np.linalg.svd(F)\n",
    "# F =  s @ np.diag([*v[:2], 0]) @ d\n",
    "F =  s @ v @ d\n",
    "F"
   ]
  },
  {
   "cell_type": "code",
   "execution_count": 1181,
   "id": "9608160c",
   "metadata": {},
   "outputs": [],
   "source": [
    "#denormalise matrix\n",
    "# F = image_points2_homo.T @ F @ image_points1_homo\n",
    "# F"
   ]
  },
  {
   "cell_type": "markdown",
   "id": "0df25427",
   "metadata": {},
   "source": [
    "<br>\n",
    "\n",
    "Task 2\n",
    "\n",
    "<br>"
   ]
  },
  {
   "cell_type": "code",
   "execution_count": 1182,
   "id": "5c41b64e",
   "metadata": {},
   "outputs": [
    {
     "data": {
      "text/plain": [
       "array([-0.        , -0.55245515,  0.        ,  0.17359423,  0.01315369,\n",
       "       -0.4013032 , -0.5290327 ,  0.02930737,  0.47191795])"
      ]
     },
     "execution_count": 1182,
     "metadata": {},
     "output_type": "execute_result"
    }
   ],
   "source": [
    "##got the value from the calculation of the s,d above\n",
    "e = d[-1]\n",
    "e"
   ]
  },
  {
   "cell_type": "code",
   "execution_count": 1183,
   "id": "9ae656e3",
   "metadata": {},
   "outputs": [
    {
     "data": {
      "text/plain": [
       "array([[ 0.        ],\n",
       "       [ 0.55245515],\n",
       "       [ 0.        ],\n",
       "       [-0.17359423],\n",
       "       [-0.01315369],\n",
       "       [ 0.4013032 ],\n",
       "       [ 0.5290327 ],\n",
       "       [-0.02930737],\n",
       "       [-0.47191795]])"
      ]
     },
     "execution_count": 1183,
     "metadata": {},
     "output_type": "execute_result"
    }
   ],
   "source": [
    "\n",
    "###epipole from fundamental meatrix\n",
    "ePrime = cv2.normalize(e, None, alpha=-1)\n",
    "ePrime"
   ]
  },
  {
   "cell_type": "code",
   "execution_count": 1184,
   "id": "8c046e52",
   "metadata": {},
   "outputs": [],
   "source": [
    "##starting the method for constructing the 3d points\n",
    "\n",
    "num_points = len(image_points1)\n",
    "points_3d = np.zeros((num_points, 9))\n",
    "\n",
    "##canonical camera pair p and p' \n",
    "P = np.zeros(len(image_points2_normalized))\n",
    "P = np.eye(9)\n",
    "P_prime = ePrime.T @ F* ePrime\n"
   ]
  },
  {
   "cell_type": "code",
   "execution_count": 1185,
   "id": "7769560d",
   "metadata": {},
   "outputs": [
    {
     "name": "stdout",
     "output_type": "stream",
     "text": [
      "P\n",
      "[[1. 0. 0. 0. 0. 0. 0. 0. 0.]\n",
      " [0. 1. 0. 0. 0. 0. 0. 0. 0.]\n",
      " [0. 0. 1. 0. 0. 0. 0. 0. 0.]\n",
      " [0. 0. 0. 1. 0. 0. 0. 0. 0.]\n",
      " [0. 0. 0. 0. 1. 0. 0. 0. 0.]\n",
      " [0. 0. 0. 0. 0. 1. 0. 0. 0.]\n",
      " [0. 0. 0. 0. 0. 0. 1. 0. 0.]\n",
      " [0. 0. 0. 0. 0. 0. 0. 1. 0.]\n",
      " [0. 0. 0. 0. 0. 0. 0. 0. 1.]]\n",
      "\n",
      "\n",
      "P prime\n",
      "[[-0.        ]\n",
      " [-0.52740158]\n",
      " [-0.        ]\n",
      " [ 0.16572182]\n",
      " [ 0.01255717]\n",
      " [-0.3831043 ]\n",
      " [-0.50504132]\n",
      " [ 0.0279783 ]\n",
      " [ 0.45051671]]\n"
     ]
    }
   ],
   "source": [
    "###printing values of p and p_prime\n",
    "print(\"P\")\n",
    "print(P)\n",
    "print(\"\\n\")\n",
    "print(\"P prime\")\n",
    "print(P_prime)"
   ]
  },
  {
   "cell_type": "code",
   "execution_count": 1188,
   "id": "e6e06d12",
   "metadata": {},
   "outputs": [],
   "source": [
    "#### linear triangulation method using the DLT as described in\n",
    "##Sec. 12.2 in the book Multiple View Geometry\n",
    "##for 10 cordinate points\n",
    "\n",
    "for i in range(num_points-1):\n",
    "    x1, y1 = image_points1[i]\n",
    "    x2, y2 = image_points2[i]\n",
    "\n",
    "    # Homogeneous image coordinates\n",
    "    x1_homo = np.array([[x1], [y1], [1]])\n",
    "    x2_homo = np.array([[x2], [y2], [1]])\n",
    "\n",
    "    # Linear triangulation - method from the book\n",
    "    A = np.zeros((2*len(image_points2_normalized), 9))\n",
    "    A[0] = x1_homo[0] * P[2] - P[0]\n",
    "    A[1] = x1_homo[1] * P[2] - P[1]\n",
    "    A[2] = x1_homo[2] * P[2] - P[2]\n",
    "    A[3] = x1_homo[2] * P[2] - P[3]\n",
    "    A[4] = x2_homo[0] * P_prime[2] - P_prime[0]\n",
    "    A[5] = x2_homo[1] * P_prime[2] - P_prime[1]\n",
    "    A[6] = x2_homo[2] * P_prime[2] - P_prime[2]\n",
    "    A[7] = x2_homo[2] * P_prime[2] - P_prime[3]\n",
    "    A[8] = x2_homo[2] * P_prime[2] - P_prime[4]\n",
    "\n",
    "\n",
    "    _, _, V = np.linalg.svd(A)\n",
    "    X_homo = V[-1]\n",
    "    X_homo /= X_homo[8]  \n",
    "\n",
    "    # Convert homogeneous coordinates to 3D coordinates\n",
    "    X = X_homo[3]\n",
    "\n",
    "    # Store the 3D point\n",
    "    points_3d[i] = X"
   ]
  },
  {
   "cell_type": "code",
   "execution_count": 1190,
   "id": "1ec2c7d5",
   "metadata": {},
   "outputs": [
    {
     "data": {
      "text/plain": [
       "array([[1.95968656e-17, 1.95968656e-17, 1.95968656e-17, 1.95968656e-17,\n",
       "        1.95968656e-17, 1.95968656e-17, 1.95968656e-17, 1.95968656e-17,\n",
       "        1.95968656e-17],\n",
       "       [1.16861954e-17, 1.16861954e-17, 1.16861954e-17, 1.16861954e-17,\n",
       "        1.16861954e-17, 1.16861954e-17, 1.16861954e-17, 1.16861954e-17,\n",
       "        1.16861954e-17],\n",
       "       [7.00367279e-18, 7.00367279e-18, 7.00367279e-18, 7.00367279e-18,\n",
       "        7.00367279e-18, 7.00367279e-18, 7.00367279e-18, 7.00367279e-18,\n",
       "        7.00367279e-18],\n",
       "       [5.79111835e-17, 5.79111835e-17, 5.79111835e-17, 5.79111835e-17,\n",
       "        5.79111835e-17, 5.79111835e-17, 5.79111835e-17, 5.79111835e-17,\n",
       "        5.79111835e-17],\n",
       "       [0.00000000e+00, 0.00000000e+00, 0.00000000e+00, 0.00000000e+00,\n",
       "        0.00000000e+00, 0.00000000e+00, 0.00000000e+00, 0.00000000e+00,\n",
       "        0.00000000e+00]])"
      ]
     },
     "execution_count": 1190,
     "metadata": {},
     "output_type": "execute_result"
    }
   ],
   "source": [
    "#reconstucted 3d points\n",
    "points_3d"
   ]
  },
  {
   "cell_type": "markdown",
   "id": "474ed7ef",
   "metadata": {},
   "source": [
    "<br>\n",
    "\n",
    "Task 3\n",
    "\n",
    "<br>"
   ]
  },
  {
   "cell_type": "code",
   "execution_count": 1191,
   "id": "cf6571e8",
   "metadata": {},
   "outputs": [],
   "source": [
    "world_coords = np.loadtxt('coords.txt')"
   ]
  },
  {
   "cell_type": "code",
   "execution_count": 1192,
   "id": "6b88f284",
   "metadata": {},
   "outputs": [
    {
     "name": "stdout",
     "output_type": "stream",
     "text": [
      "-1.0\n",
      "0.015545\n",
      "0.491684\n",
      "0.0\n",
      "1.05319\n",
      "1.22323\n",
      "0.0\n",
      "1.0\n",
      "-1.05319\n",
      "1.0\n"
     ]
    }
   ],
   "source": [
    "###cordinates x in coords.tex\n",
    "\n",
    "for X, Y, _, _ in world_coords:\n",
    "    print(X)"
   ]
  },
  {
   "cell_type": "code",
   "execution_count": 1193,
   "id": "1e2aefcf",
   "metadata": {},
   "outputs": [],
   "source": [
    "# Linear triangulation - method from the book\n",
    "H = np.zeros((2*len(image_points2_normalized), 9))\n",
    "for i in range(2*len(image_points1_normalized)):\n",
    "    H[0] = points_3d[0][0] * P[2].T * world_coords[0][0]\n",
    "    H[1] = points_3d[1][0] * P[2] * world_coords[1][0]\n",
    "    H[2] = points_3d[2][0] * P[2] * world_coords[2][0]\n",
    "    H[3] = points_3d[3][0] * P[2] * world_coords[3][0]    \n",
    "    H[4] = points_3d[4][0] * P[2] * world_coords[4][0]  \n",
    "    H[5] = points_3d[1][0] * P[2] * world_coords[5][0]\n",
    "    H[6] = points_3d[2][0] * P[2] * world_coords[6][0]\n",
    "    H[7] = points_3d[3][0] * P[2] * world_coords[7][0]\n",
    "    H[8] = points_3d[4][0] * P[2] * world_coords[8][0]\n",
    "    H[9] = points_3d[1][0] * P[2] * world_coords[9][0]\n",
    "\n",
    "_, _, V = np.linalg.svd(H)\n",
    "HX = V[-1]\n",
    "HX= cv2.normalize(HX, None, alpha=-1)"
   ]
  },
  {
   "cell_type": "code",
   "execution_count": 1194,
   "id": "c52732c4",
   "metadata": {},
   "outputs": [
    {
     "data": {
      "text/plain": [
       "array([[1.],\n",
       "       [0.],\n",
       "       [0.],\n",
       "       [0.],\n",
       "       [0.],\n",
       "       [0.],\n",
       "       [0.],\n",
       "       [0.],\n",
       "       [0.]])"
      ]
     },
     "execution_count": 1194,
     "metadata": {},
     "output_type": "execute_result"
    }
   ],
   "source": [
    "\n",
    "HX"
   ]
  },
  {
   "cell_type": "markdown",
   "id": "3575d6dd",
   "metadata": {},
   "source": [
    "<br>\n",
    "\n",
    "Task 4\n",
    "\n",
    "<br>"
   ]
  },
  {
   "cell_type": "code",
   "execution_count": 1196,
   "id": "aa0e92d0",
   "metadata": {},
   "outputs": [
    {
     "name": "stdout",
     "output_type": "stream",
     "text": [
      "Reconstructed 3D Coordinates (with canonical camera pair):\n",
      "Point 1: [1.95968656e-17 1.95968656e-17 1.95968656e-17 1.95968656e-17\n",
      " 1.95968656e-17 1.95968656e-17 1.95968656e-17 1.95968656e-17\n",
      " 1.95968656e-17]\n",
      "Point 2: [1.16861954e-17 1.16861954e-17 1.16861954e-17 1.16861954e-17\n",
      " 1.16861954e-17 1.16861954e-17 1.16861954e-17 1.16861954e-17\n",
      " 1.16861954e-17]\n",
      "Point 3: [7.00367279e-18 7.00367279e-18 7.00367279e-18 7.00367279e-18\n",
      " 7.00367279e-18 7.00367279e-18 7.00367279e-18 7.00367279e-18\n",
      " 7.00367279e-18]\n",
      "Point 4: [5.79111835e-17 5.79111835e-17 5.79111835e-17 5.79111835e-17\n",
      " 5.79111835e-17 5.79111835e-17 5.79111835e-17 5.79111835e-17\n",
      " 5.79111835e-17]\n",
      "Point 5: [0. 0. 0. 0. 0. 0. 0. 0. 0.]\n"
     ]
    }
   ],
   "source": [
    "print(\"Reconstructed 3D Coordinates (with canonical camera pair):\")\n",
    "for i in range(points_3d.shape[0]):\n",
    "    X = points_3d[i]\n",
    "    print(\"Point {}: {}\".format(i+1, X))"
   ]
  },
  {
   "cell_type": "code",
   "execution_count": 1197,
   "id": "f8bac7f1",
   "metadata": {},
   "outputs": [
    {
     "data": {
      "text/plain": [
       "array([[1.],\n",
       "       [0.],\n",
       "       [0.],\n",
       "       [0.],\n",
       "       [0.],\n",
       "       [0.],\n",
       "       [0.],\n",
       "       [0.],\n",
       "       [0.]])"
      ]
     },
     "execution_count": 1197,
     "metadata": {},
     "output_type": "execute_result"
    }
   ],
   "source": [
    "\n",
    "##got the value from the calculation of the s,d above\n",
    "e = V[-1]\n",
    "e\n",
    "###epipole from fundamental meatrix\n",
    "ePrime = cv2.normalize(e, None, alpha=-1)\n",
    "ePrime"
   ]
  },
  {
   "cell_type": "code",
   "execution_count": 1198,
   "id": "d9ac828b",
   "metadata": {},
   "outputs": [],
   "source": [
    "##starting the method for constructing the 3d points\n",
    "\n",
    "num_points = len(image_points1)\n",
    "points_3d = np.zeros((num_points, 3))\n",
    "\n",
    "##canonical camera pair p and p' \n",
    "P = np.zeros(len(image_points2_normalized))\n",
    "P = np.eye(5)\n",
    "P_prime = ePrime.T @ F* ePrime"
   ]
  },
  {
   "cell_type": "code",
   "execution_count": 1199,
   "id": "e085a780",
   "metadata": {},
   "outputs": [
    {
     "name": "stdout",
     "output_type": "stream",
     "text": [
      "P\n",
      "[[1. 0. 0. 0. 0.]\n",
      " [0. 1. 0. 0. 0.]\n",
      " [0. 0. 1. 0. 0.]\n",
      " [0. 0. 0. 1. 0.]\n",
      " [0. 0. 0. 0. 1.]]\n",
      "\n",
      "\n",
      "P prime\n",
      "[[1.12667631]\n",
      " [0.        ]\n",
      " [0.        ]\n",
      " [0.        ]\n",
      " [0.        ]\n",
      " [0.        ]\n",
      " [0.        ]\n",
      " [0.        ]\n",
      " [0.        ]]\n"
     ]
    }
   ],
   "source": [
    "###printing values of p and p_prime\n",
    "print(\"P\")\n",
    "print(P)\n",
    "print(\"\\n\")\n",
    "print(\"P prime\")\n",
    "print(P_prime)"
   ]
  },
  {
   "cell_type": "code",
   "execution_count": 1202,
   "id": "c2773c68",
   "metadata": {},
   "outputs": [],
   "source": [
    "\n",
    "# for i in range(num_points):\n",
    "#     x1, y1 = image_points1[i]\n",
    "#     x2, y2 = image_points2[i]\n",
    "\n",
    "#     # Homogeneous image coordinates\n",
    "#     x1_homo = np.array([[x1], [y1], [1]])\n",
    "#     x2_homo = np.array([[x2], [y2], [1]])\n",
    "\n",
    "#     # Linear triangulation - method from the book\n",
    "#     A = np.zeros((2*len(image_points2_normalized), 5))\n",
    "#     A[0] = x1_homo[0] * P[2].T - P[0]\n",
    "#     A[1] = x1_homo[1] * P[2].T - P[1]\n",
    "#     A[2] = x2_homo[0] * P_prime[2].T - P_prime[0]\n",
    "#     A[3] = x2_homo[1] * P_prime[2].T - P_prime[1]\n",
    "    \n",
    "#     H = np.zeros((2*len(image_points2_normalized), 5))\n",
    "#     for i in range(2*len(image_points1_normalized)):\n",
    "#         H[0] = points_3d[0][0] * P[2].T * world_coords[0][0]\n",
    "#         H[1] = points_3d[1][0] * P[2] * world_coords[0][1]\n",
    "#         H[2] = points_3d[2][0] * P[2] * world_coords[0][2]\n",
    "#         H[3] = points_3d[3][0] * P[2] * world_coords[0][3]    \n",
    "#         H[4] = points_3d[4][0] * P[2] * world_coords[0][4] \n",
    "\n",
    "#     _, _, V = np.linalg.svd(A)\n",
    "#     X_homo = V[-1]\n",
    "#     X_homo /= X_homo[2]  # Normalize by the fourth coordinate\n",
    "\n",
    "#     # Convert homogeneous coordinates to 3D coordinates\n",
    "#     X = X_homo[3]\n",
    "\n",
    "#     # Store the 3D point\n",
    "#     points_3d_correct[i] = X"
   ]
  },
  {
   "cell_type": "code",
   "execution_count": 1203,
   "id": "c84570f0",
   "metadata": {},
   "outputs": [],
   "source": [
    "# print(\"\\nReconstructed 3D Coordinates (with correct camera pair):\")\n",
    "# for i in range(points_3d_correct.shape[0]):\n",
    "#     X = points_3d_correct[i]\n",
    "#     print(\"Point {}: {}\".format(i+1, X))"
   ]
  }
 ],
 "metadata": {
  "kernelspec": {
   "display_name": "Python 3",
   "language": "python",
   "name": "python3"
  },
  "language_info": {
   "codemirror_mode": {
    "name": "ipython",
    "version": 3
   },
   "file_extension": ".py",
   "mimetype": "text/x-python",
   "name": "python",
   "nbconvert_exporter": "python",
   "pygments_lexer": "ipython3",
   "version": "3.8.8"
  }
 },
 "nbformat": 4,
 "nbformat_minor": 5
}
