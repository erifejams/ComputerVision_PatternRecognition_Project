{
 "cells": [
  {
   "cell_type": "code",
   "execution_count": null,
   "metadata": {},
   "outputs": [],
   "source": [
    "import cv2\n",
    "import numpy as np"
   ]
  },
  {
   "cell_type": "code",
   "execution_count": null,
   "metadata": {},
   "outputs": [],
   "source": [
    "def find_image_coordinates(image_path):\n",
    "    # Load the image\n",
    "    image = cv2.imread(image_path)\n",
    "\n",
    "    # Create a window and display the image for manual selection\n",
    "    cv2.namedWindow(\"Image\")\n",
    "    cv2.imshow(\"Image\", image)\n",
    "    cv2.waitKey(0)\n",
    "\n",
    "    # Initialize an empty list to store the image coordinates\n",
    "    image_points = []\n",
    "\n",
    "    # Mouse callback function for manual selection\n",
    "    def select_point(event, x, y, flags, param):\n",
    "        if event == cv2.EVENT_LBUTTONDOWN:\n",
    "            # Append the image coordinates of the selected point to the list\n",
    "            image_points.append((x, y))\n",
    "            # Draw a red dot at the selected point\n",
    "            cv2.circle(image, (x, y), 5, (0, 0, 255), -1)\n",
    "            # Display the updated image\n",
    "            cv2.imshow(\"Image\", image)\n",
    "\n",
    "    # Register the mouse callback function\n",
    "    cv2.setMouseCallback(\"Image\", select_point)\n",
    "\n",
    "    # Wait for the user to close the image window\n",
    "    cv2.waitKey(0)\n",
    "\n",
    "    # Close all OpenCV windows\n",
    "    cv2.destroyAllWindows()\n",
    "\n",
    "    return image_points"
   ]
  },
  {
   "cell_type": "code",
   "execution_count": null,
   "metadata": {},
   "outputs": [],
   "source": [
    "def estimate_fundamental_matrix(image_points1, image_points2):\n",
    "    # Convert image points to homogeneous coordinates\n",
    "    image_points1_homo = np.hstack((image_points1, np.ones((len(image_points1), 1))))\n",
    "    image_points2_homo = np.hstack((image_points2, np.ones((len(image_points2), 1))))\n",
    "\n",
    "    # Normalize image points\n",
    "    image_points1_normalized = cv2.normalize(image_points1_homo, None, alpha=-1, beta=1, norm_type=cv2.NORM_MINMAX, dtype=cv2.CV_32F)\n",
    "    image_points2_normalized = cv2.normalize(image_points2_homo, None, alpha=-1, beta=1, norm_type=cv2.NORM_MINMAX, dtype=cv2.CV_32F)\n",
    "\n",
    "    # Estimate fundamental matrix using normalized eight-point algorithm\n",
    "    F, _ = cv2.findFundamentalMat(image_points1_normalized, image_points2_normalized, cv2.FM_8POINT)\n",
    "\n",
    "    return F"
   ]
  },
  {
   "cell_type": "code",
   "execution_count": null,
   "metadata": {},
   "outputs": [],
   "source": [
    "def estimate_homography(image_points1, image_points2):\n",
    "    # Construct the matrix A\n",
    "    num_points = image_points1.shape[0]\n",
    "    A = np.zeros((2*num_points, 9))\n",
    "    for i in range(num_points):\n",
    "        x1, y1 = image_points1[i]\n",
    "        x2, y2 = image_points2[i]\n",
    "        A[2*i] = [-x1, -y1, -1, 0, 0, 0, x2*x1, x2*y1, x2]\n",
    "        A[2*i+1] = [0, 0, 0, -x1, -y1, -1, y2*x1, y2*y1, y2]\n",
    "\n",
    "    # Perform singular value decomposition\n",
    "    _, _, V = np.linalg.svd(A)\n",
    "\n",
    "    # Extract the homography matrix H from the last column of V\n",
    "    H = V[-1].reshape(3, 3)\n",
    "\n",
    "    return H"
   ]
  },
  {
   "cell_type": "code",
   "execution_count": null,
   "metadata": {},
   "outputs": [],
   "source": [
    "def triangulate_points(image_points1, image_points2, K1, K2, R1, R2, Ce1, Ce2):\n",
    "    num_points = image_points1.shape[0]\n",
    "    points_3d = np.zeros((num_points, 3))\n",
    "\n",
    "    # Camera matrices for the camera pair\n",
    "    P = K1 @ np.hstack((R1, -R1 @ Ce1.reshape(3, 1)))\n",
    "    P_prime = K2 @ np.hstack((R2, -R2 @ Ce2.reshape(3, 1)))\n",
    "\n",
    "    for i in range(num_points):\n",
    "        x1, y1 = image_points1[i]\n",
    "        x2, y2 = image_points2[i]\n",
    "\n",
    "        # Homogeneous image coordinates\n",
    "        x1_homo = np.array([[x1], [y1], [1]])\n",
    "        x2_homo = np.array([[x2], [y2], [1]])\n",
    "\n",
    "        # Linear triangulation\n",
    "        A = np.zeros((4, 4))\n",
    "        A[0] = x1_homo[0] * P[2] - P[0]\n",
    "        A[1] = x1_homo[1] * P[2] - P[1]\n",
    "        A[2] = x2_homo[0] * P_prime[2] - P_prime[0]\n",
    "        A[3] = x2_homo[1] * P_prime[2] - P_prime[1]\n",
    "\n",
    "        _, _, V = np.linalg.svd(A)\n",
    "        X_homo = V[-1]\n",
    "        X_homo /= X_homo[3]  # Normalize by the fourth coordinate\n",
    "\n",
    "        # Convert homogeneous coordinates to 3D coordinates\n",
    "        X = X_homo[:3]\n",
    "\n",
    "        # Store the 3D point\n",
    "        points_3d[i] = X\n",
    "\n",
    "    return points_3d"
   ]
  },
  {
   "cell_type": "code",
   "execution_count": null,
   "metadata": {},
   "outputs": [],
   "source": [
    "# Task 1: Get the image coordinates of the points from both images\n",
    "image_path1 = \"house1.png\"  # Replace with the actual path to the first image\n",
    "image_path2 = \"house2.png\"  # Replace with the actual path to the second image"
   ]
  },
  {
   "cell_type": "code",
   "execution_count": null,
   "metadata": {},
   "outputs": [],
   "source": [
    "image_points1 = find_image_coordinates(image_path1)\n",
    "image_points2 = find_image_coordinates(image_path2)"
   ]
  },
  {
   "cell_type": "code",
   "execution_count": null,
   "metadata": {},
   "outputs": [],
   "source": [
    "# Task 2: Reconstruct the fundamental matrix and triangulate 3D points\n",
    "F = estimate_fundamental_matrix(image_points1, image_points2)"
   ]
  },
  {
   "cell_type": "code",
   "execution_count": null,
   "metadata": {},
   "outputs": [],
   "source": [
    "# Assuming the camera matrices and camera centers for the first image are known\n",
    "K1 = np.array([[focal_length, 0, principal_point_x],\n",
    "                [0, focal_length, principal_point_y],\n",
    "               [0, 0, 1]])  # Replace with the actual values\n",
    "R1 = np.eye(3)  # Replace with the actual rotation matrix\n",
    "Ce1 = np.array([0, 0, 0])  # Replace with the actual camera center\n",
    "\n",
    "    # Assuming the camera matrices and camera centers for the second image are known\n",
    "K2 = np.array([[focal_length, 0, principal_point_x],\n",
    "               [0, focal_length, principal_point_y],\n",
    "               [0, 0, 1]])  # Replace with the actual values\n",
    "R2 = np.eye(3)  # Replace with the actual rotation matrix\n",
    "Ce2 = np.array([baseline, 0, 0])  # Replace with the actual camera center\n",
    "\n",
    "# Triangulate the 3D points\n",
    "points_3d = triangulate_points(image_points1, image_points2, K1, K2, R1, R2, Ce1, Ce2)"
   ]
  },
  {
   "cell_type": "code",
   "execution_count": null,
   "metadata": {},
   "outputs": [],
   "source": [
    "# Task 3: Recover the 3D homography H\n",
    "# Assuming the camera matrices and camera centers for the canonical camera pair are known\n",
    "K_hat = np.eye(3)  # Replace with the actual calibration matrix\n",
    "R_hat = np.eye(3)  # Replace with the actual rotation matrix\n",
    "Ce_hat = np.zeros(3)  # Replace with the actual camera center\n",
    "\n",
    "H = estimate_homography(points_3d, coords_world)"
   ]
  },
  {
   "cell_type": "code",
   "execution_count": null,
   "metadata": {},
   "outputs": [],
   "source": [
    "# Task 4: Triangulate the points using the correct camera pair\n",
    "points_3d_correct = triangulate_points(image_points1, image_points2, K1, K2, R1, R2, Ce1, Ce2)\n",
    "\n",
    "# Print the 3D coordinates of the points\n",
    "print(\"Reconstructed 3D Coordinates (with canonical camera pair):\")\n",
    "for i in range(points_3d.shape[0]):\n",
    "    X = points_3d[i]\n",
    "    print(\"Point {}: {}\".format(i+1, X))\n",
    "\n",
    "print(\"\\nReconstructed 3D Coordinates (with correct camera pair):\")\n",
    "for i in range(points_3d_correct.shape[0]):\n",
    "    X = points_3d_correct[i]\n",
    "    print(\"Point {}: {}\".format(i+1, X))"
   ]
  }
 ],
 "metadata": {
  "kernelspec": {
   "display_name": "Python 3.9.12 ('robotic_Arm')",
   "language": "python",
   "name": "python3"
  },
  "language_info": {
   "codemirror_mode": {
    "name": "ipython",
    "version": 3
   },
   "file_extension": ".py",
   "mimetype": "text/x-python",
   "name": "python",
   "nbconvert_exporter": "python",
   "pygments_lexer": "ipython3",
   "version": "3.9.12"
  },
  "orig_nbformat": 4,
  "vscode": {
   "interpreter": {
    "hash": "0027032a930bf69e6943e231527c49e16033c443b60c7e8c3c00fc3616754ea1"
   }
  }
 },
 "nbformat": 4,
 "nbformat_minor": 2
}
