{
 "cells": [
  {
   "cell_type": "code",
   "execution_count": 434,
   "id": "689ed763",
   "metadata": {},
   "outputs": [],
   "source": [
    "###import statements\n",
    "\n",
    "import pandas as pd\n",
    "import numpy as np\n",
    "import cv2\n",
    "import itertools"
   ]
  },
  {
   "cell_type": "code",
   "execution_count": 435,
   "id": "3ba6e84e",
   "metadata": {},
   "outputs": [],
   "source": [
    "###creating the python dictionary to store the slopes\n",
    "slopeDictionary = dict()\n",
    "linesDictionary = []"
   ]
  },
  {
   "cell_type": "code",
   "execution_count": 436,
   "id": "74c673ae",
   "metadata": {},
   "outputs": [],
   "source": [
    "###to be able to view the image in colour\n",
    "img = cv2.imread(\"house1.png\", cv2.IMREAD_COLOR)"
   ]
  },
  {
   "cell_type": "code",
   "execution_count": 437,
   "id": "1f1a3892",
   "metadata": {},
   "outputs": [],
   "source": [
    "##to view the image\n",
    "# cv2.imshow(\"image\", img)\n",
    "# cv2.waitKey(0)\n",
    " \n",
    "# # It is for removing/deleting created GUI window from screen\n",
    "# # and memory\n",
    "# cv2.destroyAllWindows()"
   ]
  },
  {
   "cell_type": "markdown",
   "id": "1f692022",
   "metadata": {},
   "source": [
    "<br>\n",
    "\n",
    "PART 1\n",
    "\n",
    "<br>"
   ]
  },
  {
   "cell_type": "code",
   "execution_count": 438,
   "id": "9766a1b4",
   "metadata": {},
   "outputs": [],
   "source": [
    "###Identify at least two sets of parallel lines in this house front\n",
    "\n",
    "##using the hough transform method and it only works on grayscale image\n",
    "gray = cv2.cvtColor(img, cv2.COLOR_BGR2GRAY)"
   ]
  },
  {
   "cell_type": "code",
   "execution_count": 439,
   "id": "7cd2cd00",
   "metadata": {},
   "outputs": [],
   "source": [
    "# edge detection algorithm to the grayscale image. In this example, we will use the Canny edge detection algorithm\n",
    "edges = cv2.Canny(gray, 50, 150, apertureSize=3)"
   ]
  },
  {
   "cell_type": "code",
   "execution_count": 440,
   "id": "fe312a27",
   "metadata": {},
   "outputs": [],
   "source": [
    "\n",
    "#### to get all the lines in the image and\n",
    "## calculate the slope\n",
    "def getParrallelLines(img, lines):\n",
    "    #https://hackthedeveloper.com/line-detection-opencv-python/\n",
    "    i=0\n",
    "    for line in lines:\n",
    "        rho, theta = line[0]\n",
    "        a = np.cos(theta)\n",
    "        b = np.sin(theta)\n",
    "        x0 = a*rho\n",
    "        y0 = b*rho\n",
    "        x1 = int(x0 + 1000*(-b))\n",
    "        y1 = int(y0 + 1000*(a))\n",
    "        x2 = int(x0 - 1000*(-b))\n",
    "        y2 = int(y0 - 1000*(a))\n",
    "\n",
    "        ##to calculate the slope, so it can be used to get which lines are parallel\n",
    "        ##to remove the devision by 0 error that shows up\n",
    "        if (x2- x1) == 0:\n",
    "#             slopeDictionary.update({key: 0}) \n",
    "#             linesDictionary.append({(rho, theta)})  \n",
    "            continue\n",
    "        else:\n",
    "            i+=1\n",
    "            key = f'key{line+1}'\n",
    "            key2 = 'slope'\n",
    "            rho4Dict = 'rho'\n",
    "            theta4Dict = 'theta'\n",
    "            slope = (y2 - y1) / (x2 - x1)\n",
    "            ###making a dictionary for the slope, rho and theta, so it can be used later to draw the lines\n",
    "            slopeDictionary.update({key: {key2:slope, rho4Dict: rho, theta4Dict: theta} })\n",
    "\n",
    "        ###draws the line in the image where there are lines detected\n",
    "        cv2.line(img, (x1, y1), (x2, y2), (0, 0, 255), 1)"
   ]
  },
  {
   "cell_type": "code",
   "execution_count": 441,
   "id": "5b693451",
   "metadata": {},
   "outputs": [],
   "source": [
    "lines = cv2.HoughLines(edges, rho=4.5, theta=np.pi/180, threshold=110)\n",
    "type(lines)\n",
    "getParrallelLines(img, lines)\n",
    "\n",
    "# Show result\n",
    "# img = cv2.resize(img, dsize=(600, 600))\n",
    "cv2.imshow('image', img)\n",
    "cv2.waitKey(0)\n",
    "cv2.destroyAllWindows()"
   ]
  },
  {
   "cell_type": "code",
   "execution_count": 442,
   "id": "6eefd61c",
   "metadata": {},
   "outputs": [
    {
     "name": "stdout",
     "output_type": "stream",
     "text": [
      "the size of the dic is 106\n"
     ]
    }
   ],
   "source": [
    "\n",
    "print(f\"the size of the dic is {len(slopeDictionary)}\")\n",
    "# slopeDictionary.values()"
   ]
  },
  {
   "cell_type": "code",
   "execution_count": 443,
   "id": "287ee4d4",
   "metadata": {},
   "outputs": [
    {
     "name": "stdout",
     "output_type": "stream",
     "text": [
      "Keys: ('key[[212.5         2.6929693]]',), Theta: [2.4260077, 1.7802358, 1.7627826, 1.7802358, 0.6806784, 2.3911011, 0.6981317, 2.443461, 2.4085543, 2.4085543, 1.1519173, 1.1693705, 1.7627826, 2.4609141, 1.4137167, 0.715585, 1.7976891, 1.7453293, 1.37881, 1.5882496, 0.017453292, 1.3962634, 1.7976891, 2.3561945, 3.1241393, 1.1868238, 1.3613569, 1.6057029, 0.7330383, 0.6632251, 2.4260077, 1.1693705, 2.3911011, 0.017453292, 0.034906585, 0.05235988, 2.4783676, 3.106686, 0.6632251, 3.1241393, 3.0892327, 1.6755161, 1.727876, 1.7104226, 2.3736477, 0.017453292, 0.017453292, 1.6929693, 0.034906585, 1.2042772, 1.6406095, 1.6231562, 3.1241393, 3.1241393, 1.134464, 2.3736477, 1.1868238, 1.43117, 3.106686, 0.61086524, 1.8151424, 1.8151424, 3.106686, 1.3439035, 3.106686, 2.4958208, 0.06981317, 1.5707964, 1.6929693, 3.0892327, 0.7853982, 1.1519173, 1.553343, 1.6755161, 1.1170107, 0.034906585, 1.850049, 2.3561945, 0.034906585, 0.034906585, 2.338741, 2.443461, 0.05235988, 1.8325957, 1.6580628, 3.0892327, 3.0717795, 0.017453292, 1.2217305, 1.3264502, 1.6231562, 3.1241393, 0.05235988, 1.134464, 3.1241393, 0.017453292, 1.6057029, 3.0892327, 0.034906585, 2.5132742, 3.106686, 0.05235988, 1.8675023, 1.4486233, 1.6406095, 1.6929693],\n",
      "\n",
      " Rho: [-256.5, 351.0, 346.5, 337.5, 351.0, -405.0, 364.5, -265.5, -414.0, -247.5, 675.0, 666.0, 360.0, -270.0, 328.5, 346.5, 328.5, 355.5, 351.0, 49.5, 567.0, 337.5, 342.0, -382.5, -279.0, 639.0, 360.0, 40.5, 360.0, 369.0, -423.0, 648.0, -243.0, 742.5, 747.0, 751.5, -279.0, -400.5, 355.5, -477.0, -265.5, 220.5, 364.5, 373.5, -396.0, 288.0, 418.5, 382.5, 495.0, 630.0, 234.0, 31.5, -409.5, -553.5, 684.0, -234.0, 657.0, 319.5, -468.0, 364.5, 319.5, 337.5, -549.0, 369.0, -270.0, -283.5, 756.0, 58.5, 292.5, -396.0, 346.5, 652.5, 67.5, 391.5, 688.5, 292.5, 310.5, -220.5, 576.0, 427.5, -373.5, -432.0, 580.5, 306.0, 396.0, -544.5, -261.0, 486.0, 625.5, 378.0, 243.0, -369.0, 499.5, 661.5, -310.5, 643.5, 252.0, -463.5, 648.0, -297.0, -364.5, 652.5, 301.5, 306.0, 405.0, 211.5],\n",
      "\n",
      " slope: [1.1502669717772693, 0.21267893660531698, 0.19418960244648317, 0.21278772378516625, -1.2352941176470589, 1.0726338958180484, -1.1914396887159533, 1.1914396887159533, 1.1114435302916978, 1.109865470852018, -0.4457831325301205, -0.42445652173913045, 0.1946992864424057, 1.2352941176470589, -0.1579746835443038, -1.1510297482837528, 0.23100616016427106, 0.17623158963941088, -0.1946992864424057, 0.01701701701701702, -57.08571428571429, -0.17673946165566276, 0.23100616016427106, 1.0, 57.08571428571429, -0.404749055585537, -0.21278772378516625, 0.03505257886830245, -1.1114435302916978, -1.2804878048780488, 1.1510297482837528, -0.425, 1.0726338958180484, -57.08571428571429, -28.542857142857144, -19.192307692307693, 1.2804878048780488, 28.542857142857144, -1.2804878048780488, 57.114285714285714, 19.00952380952381, 0.10513078470824949, 0.1585612968591692, 0.1409090909090909, 1.0360230547550433, -57.08571428571429, -57.114285714285714, 0.12298387096774194, -28.542857142857144, -0.3842443729903537, 0.07021063189568706, 0.051603206412825654, 57.08571428571429, 57.114285714285714, -0.4663355408388521, 1.0353025936599423, -0.4039913700107875, -0.14047498736735725, 28.542857142857144, -1.4293193717277486, 0.24896907216494846, 0.24961320268179474, 28.542857142857144, -0.23100616016427106, 28.52857142857143, 1.3275145469659186, -14.345323741007194, 0.0, 0.12298387096774194, 19.192307692307693, -1.0, -0.4452354874041621, -0.017008504252126064, 0.10513078470824949, -0.48830734966592426, -28.542857142857144, 0.28735033836543467, 1.0, -28.542857142857144, -28.542857142857144, 0.9659011830201809, 1.192367601246106, -19.01904761904762, 0.26825479026411186, 0.0873932697137117, 19.01904761904762, 14.242857142857142, -57.114285714285714, -0.36421725239616615, -0.24961320268179474, 0.05260521042084168, 57.114285714285714, -19.00952380952381, -0.46714522363335176, 58.794117647058826, -57.114285714285714, 0.035035035035035036, 19.00952380952381, -28.542857142857144, 1.3761702127659574, 28.542857142857144, -19.192307692307693, 0.3054393305439331, -0.12298387096774194, 0.06970912738214644, 0.12247983870967742]\n"
     ]
    }
   ],
   "source": [
    "##making list so that it can store the individual variables needed to make the lines when identifying the pairs at a later p\n",
    "slopeValue=[]\n",
    "thetaValue=[]\n",
    "rhoValue =[]\n",
    "keysV = [] ###sotres all the key values\n",
    "\n",
    "for keys in itertools.product(slopeDictionary.keys()):\n",
    "    keysV.append(keys)\n",
    "    value = slopeDictionary\n",
    "    for key in keys:\n",
    "        value = value[key]\n",
    "#         print(value)\n",
    "    thetaValue.append(value.get('theta'))\n",
    "    slopeValue.append(value.get('slope'))\n",
    "    rhoValue.append(value.get('rho'))\n",
    "print(f\"Keys: {keys}, Theta: {thetaValue},\\n\\n Rho: {rhoValue},\\n\\n slope: {slopeValue}\")\n"
   ]
  },
  {
   "cell_type": "code",
   "execution_count": 444,
   "id": "7b8eee28",
   "metadata": {},
   "outputs": [
    {
     "name": "stdout",
     "output_type": "stream",
     "text": [
      "Parallel lines found: (1.0726338958180484, 1.0726338958180484) at index 5 and 32\n",
      "Parallel lines found: (0.23100616016427106, 0.23100616016427106) at index 16 and 22\n",
      "Parallel lines found: (-57.08571428571429, -57.08571428571429) at index 20 and 33\n",
      "Parallel lines found: (-57.08571428571429, -57.08571428571429) at index 20 and 45\n",
      "Parallel lines found: (1.0, 1.0) at index 23 and 77\n",
      "Parallel lines found: (57.08571428571429, 57.08571428571429) at index 24 and 52\n",
      "Parallel lines found: (-1.2804878048780488, -1.2804878048780488) at index 29 and 38\n",
      "Parallel lines found: (-57.08571428571429, -57.08571428571429) at index 33 and 45\n",
      "Parallel lines found: (-28.542857142857144, -28.542857142857144) at index 34 and 48\n",
      "Parallel lines found: (-28.542857142857144, -28.542857142857144) at index 34 and 75\n",
      "Parallel lines found: (-28.542857142857144, -28.542857142857144) at index 34 and 78\n",
      "Parallel lines found: (-28.542857142857144, -28.542857142857144) at index 34 and 79\n",
      "Parallel lines found: (-28.542857142857144, -28.542857142857144) at index 34 and 98\n",
      "Parallel lines found: (-19.192307692307693, -19.192307692307693) at index 35 and 101\n",
      "Parallel lines found: (28.542857142857144, 28.542857142857144) at index 37 and 58\n",
      "Parallel lines found: (28.542857142857144, 28.542857142857144) at index 37 and 62\n",
      "Parallel lines found: (28.542857142857144, 28.542857142857144) at index 37 and 100\n",
      "Parallel lines found: (57.114285714285714, 57.114285714285714) at index 39 and 53\n",
      "Parallel lines found: (57.114285714285714, 57.114285714285714) at index 39 and 91\n",
      "Parallel lines found: (19.00952380952381, 19.00952380952381) at index 40 and 97\n",
      "Parallel lines found: (0.10513078470824949, 0.10513078470824949) at index 41 and 73\n",
      "Parallel lines found: (-57.114285714285714, -57.114285714285714) at index 46 and 87\n",
      "Parallel lines found: (-57.114285714285714, -57.114285714285714) at index 46 and 95\n",
      "Parallel lines found: (0.12298387096774194, 0.12298387096774194) at index 47 and 68\n",
      "Parallel lines found: (-28.542857142857144, -28.542857142857144) at index 48 and 75\n",
      "Parallel lines found: (-28.542857142857144, -28.542857142857144) at index 48 and 78\n",
      "Parallel lines found: (-28.542857142857144, -28.542857142857144) at index 48 and 79\n",
      "Parallel lines found: (-28.542857142857144, -28.542857142857144) at index 48 and 98\n",
      "Parallel lines found: (57.114285714285714, 57.114285714285714) at index 53 and 91\n",
      "Parallel lines found: (28.542857142857144, 28.542857142857144) at index 58 and 62\n",
      "Parallel lines found: (28.542857142857144, 28.542857142857144) at index 58 and 100\n",
      "Parallel lines found: (28.542857142857144, 28.542857142857144) at index 62 and 100\n",
      "Parallel lines found: (-28.542857142857144, -28.542857142857144) at index 75 and 78\n",
      "Parallel lines found: (-28.542857142857144, -28.542857142857144) at index 75 and 79\n",
      "Parallel lines found: (-28.542857142857144, -28.542857142857144) at index 75 and 98\n",
      "Parallel lines found: (-28.542857142857144, -28.542857142857144) at index 78 and 79\n",
      "Parallel lines found: (-28.542857142857144, -28.542857142857144) at index 78 and 98\n",
      "Parallel lines found: (-28.542857142857144, -28.542857142857144) at index 79 and 98\n",
      "Parallel lines found: (-57.114285714285714, -57.114285714285714) at index 87 and 95\n"
     ]
    }
   ],
   "source": [
    "##to get the pairs of parallel lines in the image\n",
    "\n",
    "keysIndex = []   ###stores all the sets of keys that are parallel matching pairs\n",
    "\n",
    "##to find the slopes which are the same\n",
    "counter = 0\n",
    "storeIndex = []\n",
    "for i in range(len(slopeValue)):\n",
    "        for j in range(i, len(slopeValue)):\n",
    "            ##checks if the values are the same\n",
    "            ##wherever the values are the same and the keys(index) not the sameit means the lines are parallel\n",
    "            if slopeValue[i] == slopeValue[j] and i != j:\n",
    "                counter+=1\n",
    "                print(f\"Parallel lines found: ({slopeValue[i]}, {slopeValue[j]}) at index {i} and {j}\")\n",
    "                storeIndex.append(i)\n",
    "                keysIndex.append((keysV[i], keysV[j]))\n",
    "        \n",
    "        "
   ]
  },
  {
   "cell_type": "code",
   "execution_count": 445,
   "id": "4c351d3b",
   "metadata": {},
   "outputs": [
    {
     "name": "stdout",
     "output_type": "stream",
     "text": [
      "The total number of parallel pair matching found is 39\n"
     ]
    }
   ],
   "source": [
    "print(f\"The total number of parallel pair matching found is {counter}\") "
   ]
  },
  {
   "cell_type": "code",
   "execution_count": 446,
   "id": "4ed607d2",
   "metadata": {},
   "outputs": [],
   "source": [
    "#### this draws only the pairs parallel lines on the img\n",
    "###declared the new image again, so it redraws on this one\n",
    "img = cv2.imread(\"house1.png\", cv2.IMREAD_COLOR)\n",
    "def drawPairParallel(storeIndex):\n",
    "    for line in storeIndex:\n",
    "        a = np.cos(thetaValue[line])\n",
    "        b = np.sin(thetaValue[line])\n",
    "        x0 = a*rhoValue[line]\n",
    "        y0 = b*rhoValue[line]\n",
    "        x1 = int(x0 + 1000*(-b))\n",
    "        y1 = int(y0 + 1000*(a))\n",
    "        x2 = int(x0 - 1000*(-b))\n",
    "        y2 = int(y0 - 1000*(a))\n",
    "\n",
    "         ###draws the line in the image where there are lines detected\n",
    "        cv2.line(img, (x1, y1), (x2, y2), (0, 0, 255), 1)\n",
    "\n",
    "    # Show result\n",
    "    # img = cv2.resize(img, dsize=(600, 600))\n",
    "    cv2.imshow('image', img)\n",
    "    cv2.waitKey(0)\n",
    "    cv2.destroyAllWindows()\n",
    "    \n",
    "###MAYBE TODO : GROUP PAIR COLOURS TOGETHER OR JUST SHOW THE SPECIFIC POINTS AT THE FRONT OF THE HOUSE\n",
    "drawPairParallel(storeIndex)"
   ]
  },
  {
   "cell_type": "markdown",
   "id": "c89ef826",
   "metadata": {},
   "source": [
    "<br>\n",
    "\n",
    "PART 2\n",
    "\n",
    "<br>"
   ]
  },
  {
   "cell_type": "code",
   "execution_count": 454,
   "id": "a0d2fbe3",
   "metadata": {},
   "outputs": [
    {
     "name": "stdout",
     "output_type": "stream",
     "text": [
      "('key[[-404.           3.3911011]]',) ('key[[-242.           3.3911011]]',)\n",
      "('key[[329.5        2.797689]]',) ('key[[343.         2.797689]]',)\n",
      "('key[[568.          1.0174533]]',) ('key[[743.5         1.0174533]]',)\n",
      "('key[[568.          1.0174533]]',) ('key[[289.          1.0174533]]',)\n",
      "('key[[-381.5          3.3561945]]',) ('key[[-219.5          3.3561945]]',)\n",
      "('key[[-278.           4.1241393]]',) ('key[[-408.5          4.1241393]]',)\n",
      "('key[[370.          1.6632252]]',) ('key[[356.5         1.6632252]]',)\n",
      "('key[[743.5         1.0174533]]',) ('key[[289.          1.0174533]]',)\n",
      "('key[[748.          1.0349066]]',) ('key[[496.          1.0349066]]',)\n",
      "('key[[748.          1.0349066]]',) ('key[[293.5         1.0349066]]',)\n",
      "('key[[748.          1.0349066]]',) ('key[[577.          1.0349066]]',)\n",
      "('key[[748.          1.0349066]]',) ('key[[428.5         1.0349066]]',)\n",
      "('key[[748.          1.0349066]]',) ('key[[649.          1.0349066]]',)\n",
      "('key[[752.5         1.0523598]]',) ('key[[653.5         1.0523598]]',)\n",
      "('key[[-399.5         4.106686]]',) ('key[[-467.          4.106686]]',)\n",
      "('key[[-399.5         4.106686]]',) ('key[[-548.          4.106686]]',)\n",
      "('key[[-399.5         4.106686]]',) ('key[[-363.5         4.106686]]',)\n",
      "('key[[-476.           4.1241393]]',) ('key[[-552.5          4.1241393]]',)\n",
      "('key[[-476.           4.1241393]]',) ('key[[-368.           4.1241393]]',)\n",
      "('key[[-264.5          4.0892324]]',) ('key[[-462.5          4.0892324]]',)\n",
      "('key[[221.5         2.6755161]]',) ('key[[392.5         2.6755161]]',)\n",
      "('key[[419.5         1.0174533]]',) ('key[[487.          1.0174533]]',)\n",
      "('key[[419.5         1.0174533]]',) ('key[[644.5         1.0174533]]',)\n",
      "('key[[383.5         2.6929693]]',) ('key[[293.5         2.6929693]]',)\n",
      "('key[[496.          1.0349066]]',) ('key[[293.5         1.0349066]]',)\n",
      "('key[[496.          1.0349066]]',) ('key[[577.          1.0349066]]',)\n",
      "('key[[496.          1.0349066]]',) ('key[[428.5         1.0349066]]',)\n",
      "('key[[496.          1.0349066]]',) ('key[[649.          1.0349066]]',)\n",
      "('key[[-552.5          4.1241393]]',) ('key[[-368.           4.1241393]]',)\n",
      "('key[[-467.          4.106686]]',) ('key[[-548.          4.106686]]',)\n",
      "('key[[-467.          4.106686]]',) ('key[[-363.5         4.106686]]',)\n",
      "('key[[-548.          4.106686]]',) ('key[[-363.5         4.106686]]',)\n",
      "('key[[293.5         1.0349066]]',) ('key[[577.          1.0349066]]',)\n",
      "('key[[293.5         1.0349066]]',) ('key[[428.5         1.0349066]]',)\n",
      "('key[[293.5         1.0349066]]',) ('key[[649.          1.0349066]]',)\n",
      "('key[[577.          1.0349066]]',) ('key[[428.5         1.0349066]]',)\n",
      "('key[[577.          1.0349066]]',) ('key[[649.          1.0349066]]',)\n",
      "('key[[428.5         1.0349066]]',) ('key[[649.          1.0349066]]',)\n",
      "('key[[487.          1.0174533]]',) ('key[[644.5         1.0174533]]',)\n"
     ]
    }
   ],
   "source": [
    "#the intersection points of these sets of parallel lines\n",
    "\n",
    "#the lines 𝒍 and 𝒎 intersect at the point 𝒙 = 𝒍 × m\n",
    "for i, j in keysIndex:\n",
    "    print(i, j)\n",
    "# line = rhoValue, thetaValue\n",
    "# line"
   ]
  },
  {
   "cell_type": "markdown",
   "id": "fe114481",
   "metadata": {},
   "source": [
    "extra"
   ]
  },
  {
   "cell_type": "code",
   "execution_count": null,
   "id": "c9453c89",
   "metadata": {},
   "outputs": [],
   "source": [
    "# img = cv2.imread(\"house1.png\", cv2.IMREAD_COLOR)\n",
    "\n",
    "# ##### to detect the red in the image\n",
    "# lower_red = np.array([0, 0, 200], dtype = \"uint8\") \n",
    "# upper_red= np.array([0, 0, 255], dtype = \"uint8\")\n",
    "# mask = cv2.inRange(img, lower_red, upper_red)\n",
    "# red_img = cv2.bitwise_and(img, img, mask = mask)\n",
    "# gray = cv2.cvtColor(red_img, cv2.COLOR_BGR2GRAY)\n",
    "\n",
    "\n",
    "# ##since i am looking for the parallel lines of the door and windows only\n",
    "# ##i am applying a mask with the boundary of blue to get the door coordinates of the parrallel line\n",
    "# lower_blue = np.array([200, 0, 0], dtype = \"uint8\") \n",
    "# upper_blue = np.array([255, 100, 100], dtype = \"uint8\")\n",
    "# maskBlue = cv2.inRange(img, lower_blue, upper_blue)\n",
    "# img_blue = cv2.bitwise_and(img, img, mask = maskBlue)\n",
    "# gray2 = cv2.cvtColor(img_blue, cv2.COLOR_BGR2GRAY)\n",
    "\n",
    "# ###after this the rest is the same format as the above code for getting parallels\n",
    "# edges = cv2.Canny(gray, 50, 150, apertureSize=3)\n",
    "# lines = cv2.HoughLines(edges, rho=1.5, theta=np.pi/180, threshold=55)\n",
    "# print(lines)\n",
    "\n",
    "# for line in lines:\n",
    "#     rho, theta = line[0]\n",
    "#     a = np.cos(theta)\n",
    "#     b = np.sin(theta)\n",
    "#     x0 = a*rho\n",
    "#     y0 = b*rho\n",
    "#     x1 = int(x0 + 1000*(-b))\n",
    "#     y1 = int(y0 + 1000*(a))\n",
    "#     x2 = int(x0 - 1000*(-b))\n",
    "#     y2 = int(y0 - 1000*(a))\n",
    "    \n",
    "#     ##to calculate the slope, so it can be used to get which lines are parallel\n",
    "#     ##to remove the devision by 0 error that shows up\n",
    "#     if (x2- x1) == 0:\n",
    "#         slopeDictionary.update({key: 0}) \n",
    "#     else:\n",
    "#         key = f'key{line+1}'\n",
    "#         slope = (y2 - y1) / (x2 - x1)\n",
    "#         slopeDictionary.update({key: slope})  \n",
    "# #         m = []\n",
    "# #         \n",
    "# #         m.append(slope)\n",
    "#     cv2.line(img, (x1, y1), (x2, y2), (0, 0, 255), 2)\n",
    "\n",
    "# # Show result\n",
    "# # img = cv2.resize(img, dsize=(600, 600))\n",
    "# cv2.imshow(\"Result Image\", img)\n",
    "\n",
    "# if cv2.waitKey(0) & 0xff == 27:  \n",
    "#     cv2.destroyAllWindows()"
   ]
  }
 ],
 "metadata": {
  "kernelspec": {
   "display_name": "Python 3",
   "language": "python",
   "name": "python3"
  },
  "language_info": {
   "codemirror_mode": {
    "name": "ipython",
    "version": 3
   },
   "file_extension": ".py",
   "mimetype": "text/x-python",
   "name": "python",
   "nbconvert_exporter": "python",
   "pygments_lexer": "ipython3",
   "version": "3.8.8"
  }
 },
 "nbformat": 4,
 "nbformat_minor": 5
}
