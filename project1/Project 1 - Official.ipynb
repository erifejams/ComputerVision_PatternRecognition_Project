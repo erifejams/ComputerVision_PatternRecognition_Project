{
 "cells": [
  {
   "cell_type": "markdown",
   "id": "12d89111",
   "metadata": {},
   "source": [
    "Team members: Erifeoluwa Jamgbadi and Krunal Rathod"
   ]
  },
  {
   "cell_type": "code",
   "execution_count": 1653,
   "id": "689ed763",
   "metadata": {},
   "outputs": [],
   "source": [
    "###import statements\n",
    "\n",
    "import pandas as pd\n",
    "import numpy as np\n",
    "import cv2\n",
    "import itertools\n",
    "import matplotlib.pyplot as plt"
   ]
  },
  {
   "cell_type": "code",
   "execution_count": 1654,
   "id": "3ba6e84e",
   "metadata": {},
   "outputs": [],
   "source": [
    "###creating the python dictionary to store the slopes\n",
    "slopeDictionary = dict()\n",
    "linesDictionary = []"
   ]
  },
  {
   "cell_type": "code",
   "execution_count": 1655,
   "id": "74c673ae",
   "metadata": {},
   "outputs": [],
   "source": [
    "###to be able to view the image in colour\n",
    "img = cv2.imread(\"house1.png\", cv2.IMREAD_COLOR)"
   ]
  },
  {
   "cell_type": "code",
   "execution_count": 1656,
   "id": "1f1a3892",
   "metadata": {},
   "outputs": [],
   "source": [
    "# #to view the image\n",
    "# cv2.imshow(\"image\", img)\n",
    "# cv2.waitKey(0)\n",
    " \n",
    "# # It is for removing/deleting created GUI window from screen\n",
    "# # and memory\n",
    "# cv2.destroyAllWindows()"
   ]
  },
  {
   "cell_type": "markdown",
   "id": "1f692022",
   "metadata": {},
   "source": [
    "<br>\n",
    "\n",
    "PART 1\n",
    "\n",
    "<br>"
   ]
  },
  {
   "cell_type": "code",
   "execution_count": 1657,
   "id": "9766a1b4",
   "metadata": {},
   "outputs": [],
   "source": [
    "###Identify at least two sets of parallel lines in this house front\n",
    "\n",
    "##using the hough transform method and it only works on grayscale image\n",
    "gray = cv2.cvtColor(img, cv2.COLOR_BGR2GRAY)"
   ]
  },
  {
   "cell_type": "code",
   "execution_count": 1658,
   "id": "7cd2cd00",
   "metadata": {},
   "outputs": [],
   "source": [
    "# edge detection algorithm to the grayscale image. In this example, we will use the Canny edge detection algorithm\n",
    "edges = cv2.Canny(gray, 50, 150, apertureSize=3)"
   ]
  },
  {
   "cell_type": "code",
   "execution_count": 1659,
   "id": "fe312a27",
   "metadata": {},
   "outputs": [],
   "source": [
    "\n",
    "#### to get all the lines in the image and\n",
    "## calculate the slope\n",
    "def getParallelLines(img, lines):\n",
    "    #https://hackthedeveloper.com/line-detection-opencv-python/\n",
    "    i=0\n",
    "    for line in lines:\n",
    "        rho, theta = line[0]\n",
    "        a = np.cos(theta)\n",
    "        b = np.sin(theta)\n",
    "        x0 = a*rho\n",
    "        y0 = b*rho\n",
    "        x1 = int(x0 + 1000*(-b))\n",
    "        y1 = int(y0 + 1000*(a))\n",
    "        x2 = int(x0 - 1000*(-b))\n",
    "        y2 = int(y0 - 1000*(a))\n",
    "\n",
    "        \n",
    "        ##to calculate the slope, so it can be used to get which lines are parallel\n",
    "        ##to remove the devision by 0 error that shows up\n",
    "        if (x2- x1) == 0:\n",
    "#             slopeDictionary.update({key: 0}) \n",
    "#             linesDictionary.append({(rho, theta)})  \n",
    "            continue\n",
    "        else:\n",
    "            key = f'key{line+1}'\n",
    "            key2 = 'slope'\n",
    "            rho4Dict = 'rho'\n",
    "            theta4Dict = 'theta'\n",
    "            slope = (y2 - y1) / (x2 - x1)\n",
    "            ###making a dictionary for the slope, rho and theta, so it can be used later to draw the lines\n",
    "            slopeDictionary.update({key: {key2:slope, rho4Dict: rho, theta4Dict: theta} })\n",
    "\n",
    "        ###draws the line in the image where there are lines detected\n",
    "        cv2.line(img, (x1, y1), (x2, y2), (0, 0, 255), 1)"
   ]
  },
  {
   "cell_type": "code",
   "execution_count": 1660,
   "id": "5b693451",
   "metadata": {},
   "outputs": [],
   "source": [
    "lines = cv2.HoughLines(edges, rho=4.5, theta=np.pi/180, threshold=110)\n",
    "getParallelLines(img, lines)\n",
    "\n",
    "# Show result\n",
    "# img = cv2.resize(img, dsize=(600, 600))\n",
    "cv2.imshow('image', img)\n",
    "cv2.waitKey(0)\n",
    "cv2.destroyAllWindows()"
   ]
  },
  {
   "cell_type": "code",
   "execution_count": 1634,
   "id": "6eefd61c",
   "metadata": {},
   "outputs": [
    {
     "name": "stdout",
     "output_type": "stream",
     "text": [
      "the size of the dictionary is 106\n"
     ]
    },
    {
     "data": {
      "text/plain": [
       "dict_items([('key[[-255.5          3.4260077]]', {'slope': 1.1502669717772693, 'rho': -256.5, 'theta': 2.4260077}), ('key[[352.          2.7802358]]', {'slope': 0.21267893660531698, 'rho': 351.0, 'theta': 1.7802358}), ('key[[347.5         2.7627826]]', {'slope': 0.19418960244648317, 'rho': 346.5, 'theta': 1.7627826}), ('key[[338.5         2.7802358]]', {'slope': 0.21278772378516625, 'rho': 337.5, 'theta': 1.7802358}), ('key[[352.          1.6806784]]', {'slope': -1.2352941176470589, 'rho': 351.0, 'theta': 0.6806784}), ('key[[-404.           3.3911011]]', {'slope': 1.0726338958180484, 'rho': -405.0, 'theta': 2.3911011}), ('key[[365.5         1.6981317]]', {'slope': -1.1914396887159533, 'rho': 364.5, 'theta': 0.6981317}), ('key[[-264.5         3.443461]]', {'slope': 1.1914396887159533, 'rho': -265.5, 'theta': 2.443461}), ('key[[-413.           3.4085543]]', {'slope': 1.1114435302916978, 'rho': -414.0, 'theta': 2.4085543}), ('key[[-246.5          3.4085543]]', {'slope': 1.109865470852018, 'rho': -247.5, 'theta': 2.4085543}), ('key[[676.          2.1519175]]', {'slope': -0.4457831325301205, 'rho': 675.0, 'theta': 1.1519173}), ('key[[667.          2.1693707]]', {'slope': -0.42445652173913045, 'rho': 666.0, 'theta': 1.1693705}), ('key[[361.          2.7627826]]', {'slope': 0.1946992864424057, 'rho': 360.0, 'theta': 1.7627826}), ('key[[-269.           3.4609141]]', {'slope': 1.2352941176470589, 'rho': -270.0, 'theta': 2.4609141}), ('key[[329.5         2.4137168]]', {'slope': -0.1579746835443038, 'rho': 328.5, 'theta': 1.4137167}), ('key[[347.5        1.715585]]', {'slope': -1.1510297482837528, 'rho': 346.5, 'theta': 0.715585}), ('key[[329.5        2.797689]]', {'slope': 0.23100616016427106, 'rho': 328.5, 'theta': 1.7976891}), ('key[[356.5         2.7453294]]', {'slope': 0.17623158963941088, 'rho': 355.5, 'theta': 1.7453293}), ('key[[352.        2.37881]]', {'slope': -0.1946992864424057, 'rho': 351.0, 'theta': 1.37881}), ('key[[50.5        2.5882497]]', {'slope': 0.01701701701701702, 'rho': 49.5, 'theta': 1.5882496}), ('key[[568.          1.0174533]]', {'slope': -57.08571428571429, 'rho': 567.0, 'theta': 0.017453292}), ('key[[338.5         2.3962634]]', {'slope': -0.17673946165566276, 'rho': 337.5, 'theta': 1.3962634}), ('key[[343.         2.797689]]', {'slope': 0.23100616016427106, 'rho': 342.0, 'theta': 1.7976891}), ('key[[-381.5          3.3561945]]', {'slope': 1.0, 'rho': -382.5, 'theta': 2.3561945}), ('key[[-278.           4.1241393]]', {'slope': 57.08571428571429, 'rho': -279.0, 'theta': 3.1241393}), ('key[[640.          2.1868238]]', {'slope': -0.404749055585537, 'rho': 639.0, 'theta': 1.1868238}), ('key[[361.          2.3613567]]', {'slope': -0.21278772378516625, 'rho': 360.0, 'theta': 1.3613569}), ('key[[41.5        2.6057029]]', {'slope': 0.03505257886830245, 'rho': 40.5, 'theta': 1.6057029}), ('key[[361.          1.7330383]]', {'slope': -1.1114435302916978, 'rho': 360.0, 'theta': 0.7330383}), ('key[[370.          1.6632252]]', {'slope': -1.2804878048780488, 'rho': 369.0, 'theta': 0.6632251}), ('key[[-422.           3.4260077]]', {'slope': 1.1510297482837528, 'rho': -423.0, 'theta': 2.4260077}), ('key[[649.          2.1693707]]', {'slope': -0.425, 'rho': 648.0, 'theta': 1.1693705}), ('key[[-242.           3.3911011]]', {'slope': 1.0726338958180484, 'rho': -243.0, 'theta': 2.3911011}), ('key[[743.5         1.0174533]]', {'slope': -57.08571428571429, 'rho': 742.5, 'theta': 0.017453292}), ('key[[748.          1.0349066]]', {'slope': -28.542857142857144, 'rho': 747.0, 'theta': 0.034906585}), ('key[[752.5         1.0523598]]', {'slope': -19.192307692307693, 'rho': 751.5, 'theta': 0.05235988}), ('key[[-278.           3.4783676]]', {'slope': 1.2804878048780488, 'rho': -279.0, 'theta': 2.4783676}), ('key[[-399.5         4.106686]]', {'slope': 28.542857142857144, 'rho': -400.5, 'theta': 3.106686}), ('key[[356.5         1.6632252]]', {'slope': -1.2804878048780488, 'rho': 355.5, 'theta': 0.6632251}), ('key[[-476.           4.1241393]]', {'slope': 57.114285714285714, 'rho': -477.0, 'theta': 3.1241393}), ('key[[-264.5          4.0892324]]', {'slope': 19.00952380952381, 'rho': -265.5, 'theta': 3.0892327}), ('key[[221.5         2.6755161]]', {'slope': 0.10513078470824949, 'rho': 220.5, 'theta': 1.6755161}), ('key[[365.5        2.727876]]', {'slope': 0.1585612968591692, 'rho': 364.5, 'theta': 1.727876}), ('key[[374.5         2.7104225]]', {'slope': 0.1409090909090909, 'rho': 373.5, 'theta': 1.7104226}), ('key[[-395.           3.3736477]]', {'slope': 1.0360230547550433, 'rho': -396.0, 'theta': 2.3736477}), ('key[[289.          1.0174533]]', {'slope': -57.08571428571429, 'rho': 288.0, 'theta': 0.017453292}), ('key[[419.5         1.0174533]]', {'slope': -57.114285714285714, 'rho': 418.5, 'theta': 0.017453292}), ('key[[383.5         2.6929693]]', {'slope': 0.12298387096774194, 'rho': 382.5, 'theta': 1.6929693}), ('key[[496.          1.0349066]]', {'slope': -28.542857142857144, 'rho': 495.0, 'theta': 0.034906585}), ('key[[631.         2.204277]]', {'slope': -0.3842443729903537, 'rho': 630.0, 'theta': 1.2042772}), ('key[[235.          2.6406095]]', {'slope': 0.07021063189568706, 'rho': 234.0, 'theta': 1.6406095}), ('key[[32.5       2.623156]]', {'slope': 0.051603206412825654, 'rho': 31.5, 'theta': 1.6231562}), ('key[[-408.5          4.1241393]]', {'slope': 57.08571428571429, 'rho': -409.5, 'theta': 3.1241393}), ('key[[-552.5          4.1241393]]', {'slope': 57.114285714285714, 'rho': -553.5, 'theta': 3.1241393}), ('key[[685.         2.134464]]', {'slope': -0.4663355408388521, 'rho': 684.0, 'theta': 1.134464}), ('key[[-233.           3.3736477]]', {'slope': 1.0353025936599423, 'rho': -234.0, 'theta': 2.3736477}), ('key[[658.          2.1868238]]', {'slope': -0.4039913700107875, 'rho': 657.0, 'theta': 1.1868238}), ('key[[320.5       2.43117]]', {'slope': -0.14047498736735725, 'rho': 319.5, 'theta': 1.43117}), ('key[[-467.          4.106686]]', {'slope': 28.542857142857144, 'rho': -468.0, 'theta': 3.106686}), ('key[[365.5         1.6108652]]', {'slope': -1.4293193717277486, 'rho': 364.5, 'theta': 0.61086524}), ('key[[320.5         2.8151424]]', {'slope': 0.24896907216494846, 'rho': 319.5, 'theta': 1.8151424}), ('key[[338.5         2.8151424]]', {'slope': 0.24961320268179474, 'rho': 337.5, 'theta': 1.8151424}), ('key[[-548.          4.106686]]', {'slope': 28.542857142857144, 'rho': -549.0, 'theta': 3.106686}), ('key[[370.          2.3439035]]', {'slope': -0.23100616016427106, 'rho': 369.0, 'theta': 1.3439035}), ('key[[-269.          4.106686]]', {'slope': 28.52857142857143, 'rho': -270.0, 'theta': 3.106686}), ('key[[-282.5          3.4958208]]', {'slope': 1.3275145469659186, 'rho': -283.5, 'theta': 2.4958208}), ('key[[757.          1.0698131]]', {'slope': -14.345323741007194, 'rho': 756.0, 'theta': 0.06981317}), ('key[[59.5        2.5707965]]', {'slope': 0.0, 'rho': 58.5, 'theta': 1.5707964}), ('key[[293.5         2.6929693]]', {'slope': 0.12298387096774194, 'rho': 292.5, 'theta': 1.6929693}), ('key[[-395.           4.0892324]]', {'slope': 19.192307692307693, 'rho': -396.0, 'theta': 3.0892327}), ('key[[347.5         1.7853982]]', {'slope': -1.0, 'rho': 346.5, 'theta': 0.7853982}), ('key[[653.5         2.1519175]]', {'slope': -0.4452354874041621, 'rho': 652.5, 'theta': 1.1519173}), ('key[[68.5       2.553343]]', {'slope': -0.017008504252126064, 'rho': 67.5, 'theta': 1.553343}), ('key[[392.5         2.6755161]]', {'slope': 0.10513078470824949, 'rho': 391.5, 'theta': 1.6755161}), ('key[[689.5         2.1170106]]', {'slope': -0.48830734966592426, 'rho': 688.5, 'theta': 1.1170107}), ('key[[293.5         1.0349066]]', {'slope': -28.542857142857144, 'rho': 292.5, 'theta': 0.034906585}), ('key[[311.5        2.850049]]', {'slope': 0.28735033836543467, 'rho': 310.5, 'theta': 1.850049}), ('key[[-219.5          3.3561945]]', {'slope': 1.0, 'rho': -220.5, 'theta': 2.3561945}), ('key[[577.          1.0349066]]', {'slope': -28.542857142857144, 'rho': 576.0, 'theta': 0.034906585}), ('key[[428.5         1.0349066]]', {'slope': -28.542857142857144, 'rho': 427.5, 'theta': 0.034906585}), ('key[[-372.5         3.338741]]', {'slope': 0.9659011830201809, 'rho': -373.5, 'theta': 2.338741}), ('key[[-431.          3.443461]]', {'slope': 1.192367601246106, 'rho': -432.0, 'theta': 2.443461}), ('key[[581.5         1.0523598]]', {'slope': -19.01904761904762, 'rho': 580.5, 'theta': 0.05235988}), ('key[[307.          2.8325958]]', {'slope': 0.26825479026411186, 'rho': 306.0, 'theta': 1.8325957}), ('key[[397.         2.658063]]', {'slope': 0.0873932697137117, 'rho': 396.0, 'theta': 1.6580628}), ('key[[-543.5          4.0892324]]', {'slope': 19.01904761904762, 'rho': -544.5, 'theta': 3.0892327}), ('key[[-260.           4.0717793]]', {'slope': 14.242857142857142, 'rho': -261.0, 'theta': 3.0717795}), ('key[[487.          1.0174533]]', {'slope': -57.114285714285714, 'rho': 486.0, 'theta': 0.017453292}), ('key[[626.5         2.2217305]]', {'slope': -0.36421725239616615, 'rho': 625.5, 'theta': 1.2217305}), ('key[[379.          2.3264503]]', {'slope': -0.24961320268179474, 'rho': 378.0, 'theta': 1.3264502}), ('key[[244.         2.623156]]', {'slope': 0.05260521042084168, 'rho': 243.0, 'theta': 1.6231562}), ('key[[-368.           4.1241393]]', {'slope': 57.114285714285714, 'rho': -369.0, 'theta': 3.1241393}), ('key[[500.5         1.0523598]]', {'slope': -19.00952380952381, 'rho': 499.5, 'theta': 0.05235988}), ('key[[662.5        2.134464]]', {'slope': -0.46714522363335176, 'rho': 661.5, 'theta': 1.134464}), ('key[[-309.5          4.1241393]]', {'slope': 58.794117647058826, 'rho': -310.5, 'theta': 3.1241393}), ('key[[644.5         1.0174533]]', {'slope': -57.114285714285714, 'rho': 643.5, 'theta': 0.017453292}), ('key[[253.          2.6057029]]', {'slope': 0.035035035035035036, 'rho': 252.0, 'theta': 1.6057029}), ('key[[-462.5          4.0892324]]', {'slope': 19.00952380952381, 'rho': -463.5, 'theta': 3.0892327}), ('key[[649.          1.0349066]]', {'slope': -28.542857142857144, 'rho': 648.0, 'theta': 0.034906585}), ('key[[-296.           3.5132742]]', {'slope': 1.3761702127659574, 'rho': -297.0, 'theta': 2.5132742}), ('key[[-363.5         4.106686]]', {'slope': 28.542857142857144, 'rho': -364.5, 'theta': 3.106686}), ('key[[653.5         1.0523598]]', {'slope': -19.192307692307693, 'rho': 652.5, 'theta': 0.05235988}), ('key[[302.5         2.8675022]]', {'slope': 0.3054393305439331, 'rho': 301.5, 'theta': 1.8675023}), ('key[[307.          2.4486232]]', {'slope': -0.12298387096774194, 'rho': 306.0, 'theta': 1.4486233}), ('key[[406.          2.6406095]]', {'slope': 0.06970912738214644, 'rho': 405.0, 'theta': 1.6406095}), ('key[[212.5         2.6929693]]', {'slope': 0.12247983870967742, 'rho': 211.5, 'theta': 1.6929693})])"
      ]
     },
     "execution_count": 1634,
     "metadata": {},
     "output_type": "execute_result"
    }
   ],
   "source": [
    "\n",
    "print(f\"the size of the dictionary is {len(slopeDictionary)}\")\n",
    "slopeDictionary.items()"
   ]
  },
  {
   "cell_type": "code",
   "execution_count": 1635,
   "id": "287ee4d4",
   "metadata": {},
   "outputs": [
    {
     "name": "stdout",
     "output_type": "stream",
     "text": [
      "Keys: [('key[[-255.5          3.4260077]]',), ('key[[352.          2.7802358]]',), ('key[[347.5         2.7627826]]',), ('key[[338.5         2.7802358]]',), ('key[[352.          1.6806784]]',), ('key[[-404.           3.3911011]]',), ('key[[365.5         1.6981317]]',), ('key[[-264.5         3.443461]]',), ('key[[-413.           3.4085543]]',), ('key[[-246.5          3.4085543]]',), ('key[[676.          2.1519175]]',), ('key[[667.          2.1693707]]',), ('key[[361.          2.7627826]]',), ('key[[-269.           3.4609141]]',), ('key[[329.5         2.4137168]]',), ('key[[347.5        1.715585]]',), ('key[[329.5        2.797689]]',), ('key[[356.5         2.7453294]]',), ('key[[352.        2.37881]]',), ('key[[50.5        2.5882497]]',), ('key[[568.          1.0174533]]',), ('key[[338.5         2.3962634]]',), ('key[[343.         2.797689]]',), ('key[[-381.5          3.3561945]]',), ('key[[-278.           4.1241393]]',), ('key[[640.          2.1868238]]',), ('key[[361.          2.3613567]]',), ('key[[41.5        2.6057029]]',), ('key[[361.          1.7330383]]',), ('key[[370.          1.6632252]]',), ('key[[-422.           3.4260077]]',), ('key[[649.          2.1693707]]',), ('key[[-242.           3.3911011]]',), ('key[[743.5         1.0174533]]',), ('key[[748.          1.0349066]]',), ('key[[752.5         1.0523598]]',), ('key[[-278.           3.4783676]]',), ('key[[-399.5         4.106686]]',), ('key[[356.5         1.6632252]]',), ('key[[-476.           4.1241393]]',), ('key[[-264.5          4.0892324]]',), ('key[[221.5         2.6755161]]',), ('key[[365.5        2.727876]]',), ('key[[374.5         2.7104225]]',), ('key[[-395.           3.3736477]]',), ('key[[289.          1.0174533]]',), ('key[[419.5         1.0174533]]',), ('key[[383.5         2.6929693]]',), ('key[[496.          1.0349066]]',), ('key[[631.         2.204277]]',), ('key[[235.          2.6406095]]',), ('key[[32.5       2.623156]]',), ('key[[-408.5          4.1241393]]',), ('key[[-552.5          4.1241393]]',), ('key[[685.         2.134464]]',), ('key[[-233.           3.3736477]]',), ('key[[658.          2.1868238]]',), ('key[[320.5       2.43117]]',), ('key[[-467.          4.106686]]',), ('key[[365.5         1.6108652]]',), ('key[[320.5         2.8151424]]',), ('key[[338.5         2.8151424]]',), ('key[[-548.          4.106686]]',), ('key[[370.          2.3439035]]',), ('key[[-269.          4.106686]]',), ('key[[-282.5          3.4958208]]',), ('key[[757.          1.0698131]]',), ('key[[59.5        2.5707965]]',), ('key[[293.5         2.6929693]]',), ('key[[-395.           4.0892324]]',), ('key[[347.5         1.7853982]]',), ('key[[653.5         2.1519175]]',), ('key[[68.5       2.553343]]',), ('key[[392.5         2.6755161]]',), ('key[[689.5         2.1170106]]',), ('key[[293.5         1.0349066]]',), ('key[[311.5        2.850049]]',), ('key[[-219.5          3.3561945]]',), ('key[[577.          1.0349066]]',), ('key[[428.5         1.0349066]]',), ('key[[-372.5         3.338741]]',), ('key[[-431.          3.443461]]',), ('key[[581.5         1.0523598]]',), ('key[[307.          2.8325958]]',), ('key[[397.         2.658063]]',), ('key[[-543.5          4.0892324]]',), ('key[[-260.           4.0717793]]',), ('key[[487.          1.0174533]]',), ('key[[626.5         2.2217305]]',), ('key[[379.          2.3264503]]',), ('key[[244.         2.623156]]',), ('key[[-368.           4.1241393]]',), ('key[[500.5         1.0523598]]',), ('key[[662.5        2.134464]]',), ('key[[-309.5          4.1241393]]',), ('key[[644.5         1.0174533]]',), ('key[[253.          2.6057029]]',), ('key[[-462.5          4.0892324]]',), ('key[[649.          1.0349066]]',), ('key[[-296.           3.5132742]]',), ('key[[-363.5         4.106686]]',), ('key[[653.5         1.0523598]]',), ('key[[302.5         2.8675022]]',), ('key[[307.          2.4486232]]',), ('key[[406.          2.6406095]]',), ('key[[212.5         2.6929693]]',)], \n",
      "\n",
      "Theta: [2.4260077, 1.7802358, 1.7627826, 1.7802358, 0.6806784, 2.3911011, 0.6981317, 2.443461, 2.4085543, 2.4085543, 1.1519173, 1.1693705, 1.7627826, 2.4609141, 1.4137167, 0.715585, 1.7976891, 1.7453293, 1.37881, 1.5882496, 0.017453292, 1.3962634, 1.7976891, 2.3561945, 3.1241393, 1.1868238, 1.3613569, 1.6057029, 0.7330383, 0.6632251, 2.4260077, 1.1693705, 2.3911011, 0.017453292, 0.034906585, 0.05235988, 2.4783676, 3.106686, 0.6632251, 3.1241393, 3.0892327, 1.6755161, 1.727876, 1.7104226, 2.3736477, 0.017453292, 0.017453292, 1.6929693, 0.034906585, 1.2042772, 1.6406095, 1.6231562, 3.1241393, 3.1241393, 1.134464, 2.3736477, 1.1868238, 1.43117, 3.106686, 0.61086524, 1.8151424, 1.8151424, 3.106686, 1.3439035, 3.106686, 2.4958208, 0.06981317, 1.5707964, 1.6929693, 3.0892327, 0.7853982, 1.1519173, 1.553343, 1.6755161, 1.1170107, 0.034906585, 1.850049, 2.3561945, 0.034906585, 0.034906585, 2.338741, 2.443461, 0.05235988, 1.8325957, 1.6580628, 3.0892327, 3.0717795, 0.017453292, 1.2217305, 1.3264502, 1.6231562, 3.1241393, 0.05235988, 1.134464, 3.1241393, 0.017453292, 1.6057029, 3.0892327, 0.034906585, 2.5132742, 3.106686, 0.05235988, 1.8675023, 1.4486233, 1.6406095, 1.6929693],\n",
      "\n",
      " Rho: [-256.5, 351.0, 346.5, 337.5, 351.0, -405.0, 364.5, -265.5, -414.0, -247.5, 675.0, 666.0, 360.0, -270.0, 328.5, 346.5, 328.5, 355.5, 351.0, 49.5, 567.0, 337.5, 342.0, -382.5, -279.0, 639.0, 360.0, 40.5, 360.0, 369.0, -423.0, 648.0, -243.0, 742.5, 747.0, 751.5, -279.0, -400.5, 355.5, -477.0, -265.5, 220.5, 364.5, 373.5, -396.0, 288.0, 418.5, 382.5, 495.0, 630.0, 234.0, 31.5, -409.5, -553.5, 684.0, -234.0, 657.0, 319.5, -468.0, 364.5, 319.5, 337.5, -549.0, 369.0, -270.0, -283.5, 756.0, 58.5, 292.5, -396.0, 346.5, 652.5, 67.5, 391.5, 688.5, 292.5, 310.5, -220.5, 576.0, 427.5, -373.5, -432.0, 580.5, 306.0, 396.0, -544.5, -261.0, 486.0, 625.5, 378.0, 243.0, -369.0, 499.5, 661.5, -310.5, 643.5, 252.0, -463.5, 648.0, -297.0, -364.5, 652.5, 301.5, 306.0, 405.0, 211.5],\n",
      "\n",
      " slope: [1.1502669717772693, 0.21267893660531698, 0.19418960244648317, 0.21278772378516625, -1.2352941176470589, 1.0726338958180484, -1.1914396887159533, 1.1914396887159533, 1.1114435302916978, 1.109865470852018, -0.4457831325301205, -0.42445652173913045, 0.1946992864424057, 1.2352941176470589, -0.1579746835443038, -1.1510297482837528, 0.23100616016427106, 0.17623158963941088, -0.1946992864424057, 0.01701701701701702, -57.08571428571429, -0.17673946165566276, 0.23100616016427106, 1.0, 57.08571428571429, -0.404749055585537, -0.21278772378516625, 0.03505257886830245, -1.1114435302916978, -1.2804878048780488, 1.1510297482837528, -0.425, 1.0726338958180484, -57.08571428571429, -28.542857142857144, -19.192307692307693, 1.2804878048780488, 28.542857142857144, -1.2804878048780488, 57.114285714285714, 19.00952380952381, 0.10513078470824949, 0.1585612968591692, 0.1409090909090909, 1.0360230547550433, -57.08571428571429, -57.114285714285714, 0.12298387096774194, -28.542857142857144, -0.3842443729903537, 0.07021063189568706, 0.051603206412825654, 57.08571428571429, 57.114285714285714, -0.4663355408388521, 1.0353025936599423, -0.4039913700107875, -0.14047498736735725, 28.542857142857144, -1.4293193717277486, 0.24896907216494846, 0.24961320268179474, 28.542857142857144, -0.23100616016427106, 28.52857142857143, 1.3275145469659186, -14.345323741007194, 0.0, 0.12298387096774194, 19.192307692307693, -1.0, -0.4452354874041621, -0.017008504252126064, 0.10513078470824949, -0.48830734966592426, -28.542857142857144, 0.28735033836543467, 1.0, -28.542857142857144, -28.542857142857144, 0.9659011830201809, 1.192367601246106, -19.01904761904762, 0.26825479026411186, 0.0873932697137117, 19.01904761904762, 14.242857142857142, -57.114285714285714, -0.36421725239616615, -0.24961320268179474, 0.05260521042084168, 57.114285714285714, -19.00952380952381, -0.46714522363335176, 58.794117647058826, -57.114285714285714, 0.035035035035035036, 19.00952380952381, -28.542857142857144, 1.3761702127659574, 28.542857142857144, -19.192307692307693, 0.3054393305439331, -0.12298387096774194, 0.06970912738214644, 0.12247983870967742]\n"
     ]
    }
   ],
   "source": [
    "##making list so that it can store the individual variables needed to make the lines when identifying the pairs at a later p\n",
    "slopeValue=[]\n",
    "thetaValue=[]\n",
    "rhoValue =[]\n",
    "keysV = [] ###store all the key values\n",
    "\n",
    "for keys in itertools.product(slopeDictionary.keys()):\n",
    "    keysV.append(keys)\n",
    "    value = slopeDictionary\n",
    "    for key in keys:\n",
    "        value = value[key]\n",
    "#         print(value)\n",
    "    thetaValue.append(value.get('theta'))\n",
    "    slopeValue.append(value.get('slope'))\n",
    "    rhoValue.append(value.get('rho'))\n",
    "print(f\"Keys: {keysV}, \\n\\nTheta: {thetaValue},\\n\\n Rho: {rhoValue},\\n\\n slope: {slopeValue}\")\n"
   ]
  },
  {
   "cell_type": "code",
   "execution_count": 1636,
   "id": "874ed0dd",
   "metadata": {},
   "outputs": [
    {
     "data": {
      "text/plain": [
       "106"
      ]
     },
     "execution_count": 1636,
     "metadata": {},
     "output_type": "execute_result"
    }
   ],
   "source": [
    "len(slopeValue)"
   ]
  },
  {
   "cell_type": "code",
   "execution_count": 1637,
   "id": "da19e0eb",
   "metadata": {},
   "outputs": [],
   "source": [
    "df = pd.DataFrame()"
   ]
  },
  {
   "cell_type": "code",
   "execution_count": 1661,
   "id": "7b8eee28",
   "metadata": {},
   "outputs": [
    {
     "name": "stdout",
     "output_type": "stream",
     "text": [
      "Parallel lines found: (1.0726338958180484, 1.0726338958180484) at index 5 and 32\n",
      "Parallel lines found: (0.23100616016427106, 0.23100616016427106) at index 16 and 22\n",
      "Parallel lines found: (-57.08571428571429, -57.08571428571429) at index 20 and 33\n",
      "Parallel lines found: (-57.08571428571429, -57.08571428571429) at index 20 and 45\n",
      "Parallel lines found: (1.0, 1.0) at index 23 and 77\n",
      "Parallel lines found: (57.08571428571429, 57.08571428571429) at index 24 and 52\n",
      "Parallel lines found: (-1.2804878048780488, -1.2804878048780488) at index 29 and 38\n",
      "Parallel lines found: (-57.08571428571429, -57.08571428571429) at index 33 and 45\n",
      "Parallel lines found: (-28.542857142857144, -28.542857142857144) at index 34 and 48\n",
      "Parallel lines found: (-28.542857142857144, -28.542857142857144) at index 34 and 75\n",
      "Parallel lines found: (-28.542857142857144, -28.542857142857144) at index 34 and 78\n",
      "Parallel lines found: (-28.542857142857144, -28.542857142857144) at index 34 and 79\n",
      "Parallel lines found: (-28.542857142857144, -28.542857142857144) at index 34 and 98\n",
      "Parallel lines found: (-19.192307692307693, -19.192307692307693) at index 35 and 101\n",
      "Parallel lines found: (28.542857142857144, 28.542857142857144) at index 37 and 58\n",
      "Parallel lines found: (28.542857142857144, 28.542857142857144) at index 37 and 62\n",
      "Parallel lines found: (28.542857142857144, 28.542857142857144) at index 37 and 100\n",
      "Parallel lines found: (57.114285714285714, 57.114285714285714) at index 39 and 53\n",
      "Parallel lines found: (57.114285714285714, 57.114285714285714) at index 39 and 91\n",
      "Parallel lines found: (19.00952380952381, 19.00952380952381) at index 40 and 97\n",
      "Parallel lines found: (0.10513078470824949, 0.10513078470824949) at index 41 and 73\n",
      "Parallel lines found: (-57.114285714285714, -57.114285714285714) at index 46 and 87\n",
      "Parallel lines found: (-57.114285714285714, -57.114285714285714) at index 46 and 95\n",
      "Parallel lines found: (0.12298387096774194, 0.12298387096774194) at index 47 and 68\n",
      "Parallel lines found: (-28.542857142857144, -28.542857142857144) at index 48 and 75\n",
      "Parallel lines found: (-28.542857142857144, -28.542857142857144) at index 48 and 78\n",
      "Parallel lines found: (-28.542857142857144, -28.542857142857144) at index 48 and 79\n",
      "Parallel lines found: (-28.542857142857144, -28.542857142857144) at index 48 and 98\n",
      "Parallel lines found: (57.114285714285714, 57.114285714285714) at index 53 and 91\n",
      "Parallel lines found: (28.542857142857144, 28.542857142857144) at index 58 and 62\n",
      "Parallel lines found: (28.542857142857144, 28.542857142857144) at index 58 and 100\n",
      "Parallel lines found: (28.542857142857144, 28.542857142857144) at index 62 and 100\n",
      "Parallel lines found: (-28.542857142857144, -28.542857142857144) at index 75 and 78\n",
      "Parallel lines found: (-28.542857142857144, -28.542857142857144) at index 75 and 79\n",
      "Parallel lines found: (-28.542857142857144, -28.542857142857144) at index 75 and 98\n",
      "Parallel lines found: (-28.542857142857144, -28.542857142857144) at index 78 and 79\n",
      "Parallel lines found: (-28.542857142857144, -28.542857142857144) at index 78 and 98\n",
      "Parallel lines found: (-28.542857142857144, -28.542857142857144) at index 79 and 98\n",
      "Parallel lines found: (-57.114285714285714, -57.114285714285714) at index 87 and 95\n"
     ]
    }
   ],
   "source": [
    "##to get the pairs of parallel lines in the image\n",
    "\n",
    "keysIndex = []   ###stores all the sets of keys that are parallel matching pairs\n",
    "\n",
    "##to find the slopes which are the same\n",
    "counter = 0\n",
    "storeIndex = []\n",
    "for i in range(len(slopeValue)):\n",
    "        for j in range(i, len(slopeValue)):\n",
    "            ##checks if the values are the same\n",
    "            ##wherever the values are the same and the keys(index) not the sameit means the lines are parallel\n",
    "            if slopeValue[i] == slopeValue[j] and i != j:\n",
    "                counter+=1\n",
    "                print(f\"Parallel lines found: ({slopeValue[i]}, {slopeValue[j]}) at index {i} and {j}\")\n",
    "                storeIndex.append(i)\n",
    "                storeIndex.append(j)\n",
    "                keysIndex.append((keysV[i], keysV[j]))\n",
    "        \n",
    "                ###added the values into the dataframe\n",
    "                df.loc[i, 'rho'] = rhoValue[i]\n",
    "                df.loc[i, 'theta'] = thetaValue[i]\n",
    "                df.loc[i, 'slope'] = slopeValue[i]\n",
    "                df.loc[i, 'key'] = keysV[i]\n",
    "                df.loc[j, 'rho'] = rhoValue[j]\n",
    "                df.loc[j, 'theta'] = thetaValue[j]\n",
    "                df.loc[j, 'slope'] = slopeValue[j]\n",
    "                df.loc[j, 'key'] = keysV[j]\n",
    "                \n",
    "\n",
    "        "
   ]
  },
  {
   "cell_type": "code",
   "execution_count": 1662,
   "id": "4c351d3b",
   "metadata": {},
   "outputs": [
    {
     "name": "stdout",
     "output_type": "stream",
     "text": [
      "The total number of parallel pair matching found is 39\n"
     ]
    }
   ],
   "source": [
    "print(f\"The total number of parallel pair matching found is {counter}\") "
   ]
  },
  {
   "cell_type": "code",
   "execution_count": 1663,
   "id": "fae24f91",
   "metadata": {},
   "outputs": [],
   "source": [
    "###manually went through the points to see which pairs are at the front \n",
    "### NOT: storeIndex[2]:storeIndex[3],storeIndex[4]:storeIndex[5], storeIndex[14]:storeIndex[15], storeIndex[16],storeIndex[17]\n",
    "##storeIndex[18]:storeIndex[19], storeIndex[20]:storeIndex[21], storeIndex[22]:storeIndex[23], storeIndex[24]:storeIndex[25], \n",
    "#storeIndex[24]:storeIndex[26], storeIndex[27]:storeIndex[28]\n",
    "\n",
    "### IS: storeIndex[0]:storeIndex[1], storeIndex[6]:storeIndex[7],storeIndex[6]:storeIndex[7], storeIndex[10]:storeIndex[11], \n",
    "#storeIndex[12]:storeIndex[13], (storeIndex[29],storeIndex[30], storeIndex[31],storeIndex[32], storeIndex[31],storeIndex[33]),\n",
    "#storeIndex[34]:storeIndex[35], storeIndex[38]:storeIndex[39]\n",
    "#storeIndex[29]:storeIndex[30], storeIndex[36]:storeIndex[37], storeIndex[40]:storeIndex[41]\n",
    "#storeIndex =  storeIndex[31],storeIndex[33], storeIndex[12],storeIndex[13]\n",
    "\n",
    "#storeIndex =  storeIndex[29],storeIndex[30] YES\n",
    "storeIndex =  storeIndex[36],storeIndex[37], storeIndex[40], storeIndex[41] \n"
   ]
  },
  {
   "cell_type": "code",
   "execution_count": 1664,
   "id": "4ed607d2",
   "metadata": {},
   "outputs": [],
   "source": [
    "#### this draws only the pairs parallel lines on the img\n",
    "###declared the new image again, so it redraws on this one\n",
    "img = cv2.imread(\"house1.png\", cv2.IMREAD_COLOR)\n",
    "\n",
    "def drawPairParallel(storeIndex):\n",
    "    for line in storeIndex:\n",
    "        a = np.cos(thetaValue[line])\n",
    "        b = np.sin(thetaValue[line])\n",
    "        x0 = a*rhoValue[line]\n",
    "        y0 = b*rhoValue[line]\n",
    "        x1 = int(x0 + 1000*(-b))\n",
    "        y1 = int(y0 + 1000*(a))\n",
    "        x2 = int(x0 - 1000*(-b))\n",
    "        y2 = int(y0 - 1000*(a))\n",
    "        \n",
    "        \n",
    "        ###draws the line in the image where there are lines detected\n",
    "        cv2.line(img, (x1, y1), (x2, y2), (0, 0, 255), 1)\n",
    "\n",
    "    # Show result\n",
    "    # img = cv2.resize(img, dsize=(600, 600))\n",
    "    cv2.imshow('image', img)\n",
    "    cv2.waitKey(0)\n",
    "    cv2.destroyAllWindows()\n",
    "    \n",
    "###MAYBE TODO : GROUP PAIR COLOURS TOGETHER OR JUST SHOW THE SPECIFIC POINTS AT THE FRONT OF THE HOUSE\n",
    "drawPairParallel(storeIndex)"
   ]
  },
  {
   "cell_type": "code",
   "execution_count": 1665,
   "id": "5a3f1ec4",
   "metadata": {},
   "outputs": [
    {
     "data": {
      "text/plain": [
       "(39, 91, 41, 73)"
      ]
     },
     "execution_count": 1665,
     "metadata": {},
     "output_type": "execute_result"
    }
   ],
   "source": [
    "storeIndex"
   ]
  },
  {
   "cell_type": "markdown",
   "id": "c89ef826",
   "metadata": {},
   "source": [
    "<br>\n",
    "\n",
    "PART 2\n",
    "\n",
    "<br>"
   ]
  },
  {
   "cell_type": "code",
   "execution_count": 1666,
   "id": "6eb73ce2",
   "metadata": {},
   "outputs": [
    {
     "data": {
      "text/html": [
       "<div>\n",
       "<style scoped>\n",
       "    .dataframe tbody tr th:only-of-type {\n",
       "        vertical-align: middle;\n",
       "    }\n",
       "\n",
       "    .dataframe tbody tr th {\n",
       "        vertical-align: top;\n",
       "    }\n",
       "\n",
       "    .dataframe thead th {\n",
       "        text-align: right;\n",
       "    }\n",
       "</style>\n",
       "<table border=\"1\" class=\"dataframe\">\n",
       "  <thead>\n",
       "    <tr style=\"text-align: right;\">\n",
       "      <th></th>\n",
       "      <th>rho</th>\n",
       "      <th>theta</th>\n",
       "      <th>slope</th>\n",
       "      <th>key</th>\n",
       "    </tr>\n",
       "  </thead>\n",
       "  <tbody>\n",
       "    <tr>\n",
       "      <th>5</th>\n",
       "      <td>-405.0</td>\n",
       "      <td>2.391101</td>\n",
       "      <td>1.072634</td>\n",
       "      <td>key[[-404.           3.3911011]]</td>\n",
       "    </tr>\n",
       "    <tr>\n",
       "      <th>32</th>\n",
       "      <td>-243.0</td>\n",
       "      <td>2.391101</td>\n",
       "      <td>1.072634</td>\n",
       "      <td>key[[-242.           3.3911011]]</td>\n",
       "    </tr>\n",
       "    <tr>\n",
       "      <th>16</th>\n",
       "      <td>328.5</td>\n",
       "      <td>1.797689</td>\n",
       "      <td>0.231006</td>\n",
       "      <td>key[[329.5        2.797689]]</td>\n",
       "    </tr>\n",
       "    <tr>\n",
       "      <th>22</th>\n",
       "      <td>342.0</td>\n",
       "      <td>1.797689</td>\n",
       "      <td>0.231006</td>\n",
       "      <td>key[[343.         2.797689]]</td>\n",
       "    </tr>\n",
       "    <tr>\n",
       "      <th>20</th>\n",
       "      <td>567.0</td>\n",
       "      <td>0.017453</td>\n",
       "      <td>-57.085714</td>\n",
       "      <td>key[[568.          1.0174533]]</td>\n",
       "    </tr>\n",
       "    <tr>\n",
       "      <th>33</th>\n",
       "      <td>742.5</td>\n",
       "      <td>0.017453</td>\n",
       "      <td>-57.085714</td>\n",
       "      <td>key[[743.5         1.0174533]]</td>\n",
       "    </tr>\n",
       "    <tr>\n",
       "      <th>45</th>\n",
       "      <td>288.0</td>\n",
       "      <td>0.017453</td>\n",
       "      <td>-57.085714</td>\n",
       "      <td>key[[289.          1.0174533]]</td>\n",
       "    </tr>\n",
       "    <tr>\n",
       "      <th>23</th>\n",
       "      <td>-382.5</td>\n",
       "      <td>2.356194</td>\n",
       "      <td>1.000000</td>\n",
       "      <td>key[[-381.5          3.3561945]]</td>\n",
       "    </tr>\n",
       "    <tr>\n",
       "      <th>77</th>\n",
       "      <td>-220.5</td>\n",
       "      <td>2.356194</td>\n",
       "      <td>1.000000</td>\n",
       "      <td>key[[-219.5          3.3561945]]</td>\n",
       "    </tr>\n",
       "    <tr>\n",
       "      <th>24</th>\n",
       "      <td>-279.0</td>\n",
       "      <td>3.124139</td>\n",
       "      <td>57.085714</td>\n",
       "      <td>key[[-278.           4.1241393]]</td>\n",
       "    </tr>\n",
       "    <tr>\n",
       "      <th>52</th>\n",
       "      <td>-409.5</td>\n",
       "      <td>3.124139</td>\n",
       "      <td>57.085714</td>\n",
       "      <td>key[[-408.5          4.1241393]]</td>\n",
       "    </tr>\n",
       "    <tr>\n",
       "      <th>29</th>\n",
       "      <td>369.0</td>\n",
       "      <td>0.663225</td>\n",
       "      <td>-1.280488</td>\n",
       "      <td>key[[370.          1.6632252]]</td>\n",
       "    </tr>\n",
       "    <tr>\n",
       "      <th>38</th>\n",
       "      <td>355.5</td>\n",
       "      <td>0.663225</td>\n",
       "      <td>-1.280488</td>\n",
       "      <td>key[[356.5         1.6632252]]</td>\n",
       "    </tr>\n",
       "    <tr>\n",
       "      <th>34</th>\n",
       "      <td>747.0</td>\n",
       "      <td>0.034907</td>\n",
       "      <td>-28.542857</td>\n",
       "      <td>key[[748.          1.0349066]]</td>\n",
       "    </tr>\n",
       "    <tr>\n",
       "      <th>48</th>\n",
       "      <td>495.0</td>\n",
       "      <td>0.034907</td>\n",
       "      <td>-28.542857</td>\n",
       "      <td>key[[496.          1.0349066]]</td>\n",
       "    </tr>\n",
       "    <tr>\n",
       "      <th>75</th>\n",
       "      <td>292.5</td>\n",
       "      <td>0.034907</td>\n",
       "      <td>-28.542857</td>\n",
       "      <td>key[[293.5         1.0349066]]</td>\n",
       "    </tr>\n",
       "    <tr>\n",
       "      <th>78</th>\n",
       "      <td>576.0</td>\n",
       "      <td>0.034907</td>\n",
       "      <td>-28.542857</td>\n",
       "      <td>key[[577.          1.0349066]]</td>\n",
       "    </tr>\n",
       "    <tr>\n",
       "      <th>79</th>\n",
       "      <td>427.5</td>\n",
       "      <td>0.034907</td>\n",
       "      <td>-28.542857</td>\n",
       "      <td>key[[428.5         1.0349066]]</td>\n",
       "    </tr>\n",
       "    <tr>\n",
       "      <th>98</th>\n",
       "      <td>648.0</td>\n",
       "      <td>0.034907</td>\n",
       "      <td>-28.542857</td>\n",
       "      <td>key[[649.          1.0349066]]</td>\n",
       "    </tr>\n",
       "    <tr>\n",
       "      <th>35</th>\n",
       "      <td>751.5</td>\n",
       "      <td>0.052360</td>\n",
       "      <td>-19.192308</td>\n",
       "      <td>key[[752.5         1.0523598]]</td>\n",
       "    </tr>\n",
       "    <tr>\n",
       "      <th>101</th>\n",
       "      <td>652.5</td>\n",
       "      <td>0.052360</td>\n",
       "      <td>-19.192308</td>\n",
       "      <td>key[[653.5         1.0523598]]</td>\n",
       "    </tr>\n",
       "    <tr>\n",
       "      <th>37</th>\n",
       "      <td>-400.5</td>\n",
       "      <td>3.106686</td>\n",
       "      <td>28.542857</td>\n",
       "      <td>key[[-399.5         4.106686]]</td>\n",
       "    </tr>\n",
       "    <tr>\n",
       "      <th>58</th>\n",
       "      <td>-468.0</td>\n",
       "      <td>3.106686</td>\n",
       "      <td>28.542857</td>\n",
       "      <td>key[[-467.          4.106686]]</td>\n",
       "    </tr>\n",
       "    <tr>\n",
       "      <th>62</th>\n",
       "      <td>-549.0</td>\n",
       "      <td>3.106686</td>\n",
       "      <td>28.542857</td>\n",
       "      <td>key[[-548.          4.106686]]</td>\n",
       "    </tr>\n",
       "    <tr>\n",
       "      <th>100</th>\n",
       "      <td>-364.5</td>\n",
       "      <td>3.106686</td>\n",
       "      <td>28.542857</td>\n",
       "      <td>key[[-363.5         4.106686]]</td>\n",
       "    </tr>\n",
       "    <tr>\n",
       "      <th>39</th>\n",
       "      <td>-477.0</td>\n",
       "      <td>3.124139</td>\n",
       "      <td>57.114286</td>\n",
       "      <td>key[[-476.           4.1241393]]</td>\n",
       "    </tr>\n",
       "    <tr>\n",
       "      <th>53</th>\n",
       "      <td>-553.5</td>\n",
       "      <td>3.124139</td>\n",
       "      <td>57.114286</td>\n",
       "      <td>key[[-552.5          4.1241393]]</td>\n",
       "    </tr>\n",
       "    <tr>\n",
       "      <th>91</th>\n",
       "      <td>-369.0</td>\n",
       "      <td>3.124139</td>\n",
       "      <td>57.114286</td>\n",
       "      <td>key[[-368.           4.1241393]]</td>\n",
       "    </tr>\n",
       "    <tr>\n",
       "      <th>40</th>\n",
       "      <td>-265.5</td>\n",
       "      <td>3.089233</td>\n",
       "      <td>19.009524</td>\n",
       "      <td>key[[-264.5          4.0892324]]</td>\n",
       "    </tr>\n",
       "    <tr>\n",
       "      <th>97</th>\n",
       "      <td>-463.5</td>\n",
       "      <td>3.089233</td>\n",
       "      <td>19.009524</td>\n",
       "      <td>key[[-462.5          4.0892324]]</td>\n",
       "    </tr>\n",
       "    <tr>\n",
       "      <th>41</th>\n",
       "      <td>220.5</td>\n",
       "      <td>1.675516</td>\n",
       "      <td>0.105131</td>\n",
       "      <td>key[[221.5         2.6755161]]</td>\n",
       "    </tr>\n",
       "    <tr>\n",
       "      <th>73</th>\n",
       "      <td>391.5</td>\n",
       "      <td>1.675516</td>\n",
       "      <td>0.105131</td>\n",
       "      <td>key[[392.5         2.6755161]]</td>\n",
       "    </tr>\n",
       "    <tr>\n",
       "      <th>46</th>\n",
       "      <td>418.5</td>\n",
       "      <td>0.017453</td>\n",
       "      <td>-57.114286</td>\n",
       "      <td>key[[419.5         1.0174533]]</td>\n",
       "    </tr>\n",
       "    <tr>\n",
       "      <th>87</th>\n",
       "      <td>486.0</td>\n",
       "      <td>0.017453</td>\n",
       "      <td>-57.114286</td>\n",
       "      <td>key[[487.          1.0174533]]</td>\n",
       "    </tr>\n",
       "    <tr>\n",
       "      <th>95</th>\n",
       "      <td>643.5</td>\n",
       "      <td>0.017453</td>\n",
       "      <td>-57.114286</td>\n",
       "      <td>key[[644.5         1.0174533]]</td>\n",
       "    </tr>\n",
       "    <tr>\n",
       "      <th>47</th>\n",
       "      <td>382.5</td>\n",
       "      <td>1.692969</td>\n",
       "      <td>0.122984</td>\n",
       "      <td>key[[383.5         2.6929693]]</td>\n",
       "    </tr>\n",
       "    <tr>\n",
       "      <th>68</th>\n",
       "      <td>292.5</td>\n",
       "      <td>1.692969</td>\n",
       "      <td>0.122984</td>\n",
       "      <td>key[[293.5         2.6929693]]</td>\n",
       "    </tr>\n",
       "  </tbody>\n",
       "</table>\n",
       "</div>"
      ],
      "text/plain": [
       "       rho     theta      slope                               key\n",
       "5   -405.0  2.391101   1.072634  key[[-404.           3.3911011]]\n",
       "32  -243.0  2.391101   1.072634  key[[-242.           3.3911011]]\n",
       "16   328.5  1.797689   0.231006      key[[329.5        2.797689]]\n",
       "22   342.0  1.797689   0.231006      key[[343.         2.797689]]\n",
       "20   567.0  0.017453 -57.085714    key[[568.          1.0174533]]\n",
       "33   742.5  0.017453 -57.085714    key[[743.5         1.0174533]]\n",
       "45   288.0  0.017453 -57.085714    key[[289.          1.0174533]]\n",
       "23  -382.5  2.356194   1.000000  key[[-381.5          3.3561945]]\n",
       "77  -220.5  2.356194   1.000000  key[[-219.5          3.3561945]]\n",
       "24  -279.0  3.124139  57.085714  key[[-278.           4.1241393]]\n",
       "52  -409.5  3.124139  57.085714  key[[-408.5          4.1241393]]\n",
       "29   369.0  0.663225  -1.280488    key[[370.          1.6632252]]\n",
       "38   355.5  0.663225  -1.280488    key[[356.5         1.6632252]]\n",
       "34   747.0  0.034907 -28.542857    key[[748.          1.0349066]]\n",
       "48   495.0  0.034907 -28.542857    key[[496.          1.0349066]]\n",
       "75   292.5  0.034907 -28.542857    key[[293.5         1.0349066]]\n",
       "78   576.0  0.034907 -28.542857    key[[577.          1.0349066]]\n",
       "79   427.5  0.034907 -28.542857    key[[428.5         1.0349066]]\n",
       "98   648.0  0.034907 -28.542857    key[[649.          1.0349066]]\n",
       "35   751.5  0.052360 -19.192308    key[[752.5         1.0523598]]\n",
       "101  652.5  0.052360 -19.192308    key[[653.5         1.0523598]]\n",
       "37  -400.5  3.106686  28.542857    key[[-399.5         4.106686]]\n",
       "58  -468.0  3.106686  28.542857    key[[-467.          4.106686]]\n",
       "62  -549.0  3.106686  28.542857    key[[-548.          4.106686]]\n",
       "100 -364.5  3.106686  28.542857    key[[-363.5         4.106686]]\n",
       "39  -477.0  3.124139  57.114286  key[[-476.           4.1241393]]\n",
       "53  -553.5  3.124139  57.114286  key[[-552.5          4.1241393]]\n",
       "91  -369.0  3.124139  57.114286  key[[-368.           4.1241393]]\n",
       "40  -265.5  3.089233  19.009524  key[[-264.5          4.0892324]]\n",
       "97  -463.5  3.089233  19.009524  key[[-462.5          4.0892324]]\n",
       "41   220.5  1.675516   0.105131    key[[221.5         2.6755161]]\n",
       "73   391.5  1.675516   0.105131    key[[392.5         2.6755161]]\n",
       "46   418.5  0.017453 -57.114286    key[[419.5         1.0174533]]\n",
       "87   486.0  0.017453 -57.114286    key[[487.          1.0174533]]\n",
       "95   643.5  0.017453 -57.114286    key[[644.5         1.0174533]]\n",
       "47   382.5  1.692969   0.122984    key[[383.5         2.6929693]]\n",
       "68   292.5  1.692969   0.122984    key[[293.5         2.6929693]]"
      ]
     },
     "execution_count": 1666,
     "metadata": {},
     "output_type": "execute_result"
    }
   ],
   "source": [
    "###stores all the parallel lines\n",
    "df"
   ]
  },
  {
   "cell_type": "code",
   "execution_count": 1667,
   "id": "56b33ab7",
   "metadata": {},
   "outputs": [
    {
     "name": "stdout",
     "output_type": "stream",
     "text": [
      "('key[[-404.           3.3911011]]',)\n",
      "('key[[329.5        2.797689]]',)\n",
      "('key[[568.          1.0174533]]',)\n",
      "('key[[568.          1.0174533]]',)\n",
      "('key[[-381.5          3.3561945]]',)\n",
      "('key[[-278.           4.1241393]]',)\n",
      "('key[[370.          1.6632252]]',)\n",
      "('key[[743.5         1.0174533]]',)\n",
      "('key[[748.          1.0349066]]',)\n",
      "('key[[748.          1.0349066]]',)\n",
      "('key[[748.          1.0349066]]',)\n",
      "('key[[748.          1.0349066]]',)\n",
      "('key[[748.          1.0349066]]',)\n",
      "('key[[752.5         1.0523598]]',)\n",
      "('key[[-399.5         4.106686]]',)\n",
      "('key[[-399.5         4.106686]]',)\n",
      "('key[[-399.5         4.106686]]',)\n",
      "('key[[-476.           4.1241393]]',)\n",
      "('key[[-476.           4.1241393]]',)\n",
      "('key[[-264.5          4.0892324]]',)\n",
      "('key[[221.5         2.6755161]]',)\n",
      "('key[[419.5         1.0174533]]',)\n",
      "('key[[419.5         1.0174533]]',)\n",
      "('key[[383.5         2.6929693]]',)\n",
      "('key[[496.          1.0349066]]',)\n",
      "('key[[496.          1.0349066]]',)\n",
      "('key[[496.          1.0349066]]',)\n",
      "('key[[496.          1.0349066]]',)\n",
      "('key[[-552.5          4.1241393]]',)\n",
      "('key[[-467.          4.106686]]',)\n",
      "('key[[-467.          4.106686]]',)\n",
      "('key[[-548.          4.106686]]',)\n",
      "('key[[293.5         1.0349066]]',)\n",
      "('key[[293.5         1.0349066]]',)\n",
      "('key[[293.5         1.0349066]]',)\n",
      "('key[[577.          1.0349066]]',)\n",
      "('key[[577.          1.0349066]]',)\n",
      "('key[[428.5         1.0349066]]',)\n",
      "('key[[487.          1.0174533]]',)\n"
     ]
    }
   ],
   "source": [
    "#the intersection points of these sets of parallel lines\n",
    "\n",
    "###i want to get the points of the two lines then multiply those lines by each other\n",
    "##you need rho and theta of those lines\n",
    "##store the intersection points\n",
    "intersectionPoints = []\n",
    "#the lines 𝒍 and 𝒎 intersect at the point 𝒙 = 𝒍 × m\n",
    "for i, j in keysIndex:\n",
    "    print(i)\n",
    "    for index, row in df.iterrows():\n",
    "        \n",
    "        if i == row[\"key\"]:\n",
    "            theta1, rho1 = row[\"theta\"], row[\"rho\"]\n",
    "            \n",
    "            ##now find the second line\n",
    "            for index, row in df.iterrows():\n",
    "                if j == row[\"key\"]:\n",
    "                    theta2, rho2 = row[\"theta\"], row[\"rho\"] \n",
    "        \n",
    "                    A = np.array([[np.cos(theta1), np.sin(theta1)], [np.cos(theta2), np.sin(theta2)]])\n",
    "                    b = np.array([[rho1], [rho2]])\n",
    "                \n",
    "                    # solve the least squares problem for the \n",
    "                    # intersection point p: Rp = q\n",
    "                    x0, y0 = np.linalg.lstsq(A, b, rcond=None)[0]\n",
    "                    x0, y0 = int(np.round(x0)), int(np.round(y0))\n",
    "                    intersectionPoints.append((x0, y0)) \n",
    "        else:\n",
    "            continue"
   ]
  },
  {
   "cell_type": "code",
   "execution_count": 1668,
   "id": "e0ef1b0a",
   "metadata": {},
   "outputs": [
    {
     "data": {
      "text/html": [
       "<div>\n",
       "<style scoped>\n",
       "    .dataframe tbody tr th:only-of-type {\n",
       "        vertical-align: middle;\n",
       "    }\n",
       "\n",
       "    .dataframe tbody tr th {\n",
       "        vertical-align: top;\n",
       "    }\n",
       "\n",
       "    .dataframe thead th {\n",
       "        text-align: right;\n",
       "    }\n",
       "</style>\n",
       "<table border=\"1\" class=\"dataframe\">\n",
       "  <thead>\n",
       "    <tr style=\"text-align: right;\">\n",
       "      <th></th>\n",
       "      <th>rho</th>\n",
       "      <th>theta</th>\n",
       "      <th>slope</th>\n",
       "      <th>key</th>\n",
       "    </tr>\n",
       "  </thead>\n",
       "  <tbody>\n",
       "    <tr>\n",
       "      <th>39</th>\n",
       "      <td>-477.0</td>\n",
       "      <td>3.124139</td>\n",
       "      <td>57.114286</td>\n",
       "      <td>key[[-476.           4.1241393]]</td>\n",
       "    </tr>\n",
       "    <tr>\n",
       "      <th>91</th>\n",
       "      <td>-369.0</td>\n",
       "      <td>3.124139</td>\n",
       "      <td>57.114286</td>\n",
       "      <td>key[[-368.           4.1241393]]</td>\n",
       "    </tr>\n",
       "    <tr>\n",
       "      <th>41</th>\n",
       "      <td>220.5</td>\n",
       "      <td>1.675516</td>\n",
       "      <td>0.105131</td>\n",
       "      <td>key[[221.5         2.6755161]]</td>\n",
       "    </tr>\n",
       "    <tr>\n",
       "      <th>73</th>\n",
       "      <td>391.5</td>\n",
       "      <td>1.675516</td>\n",
       "      <td>0.105131</td>\n",
       "      <td>key[[392.5         2.6755161]]</td>\n",
       "    </tr>\n",
       "  </tbody>\n",
       "</table>\n",
       "</div>"
      ],
      "text/plain": [
       "      rho     theta      slope                               key\n",
       "39 -477.0  3.124139  57.114286  key[[-476.           4.1241393]]\n",
       "91 -369.0  3.124139  57.114286  key[[-368.           4.1241393]]\n",
       "41  220.5  1.675516   0.105131    key[[221.5         2.6755161]]\n",
       "73  391.5  1.675516   0.105131    key[[392.5         2.6755161]]"
      ]
     },
     "execution_count": 1668,
     "metadata": {},
     "output_type": "execute_result"
    }
   ],
   "source": [
    "###only putting one of the parallel sets that we chose in the dataframe\n",
    "paraSet = pd.DataFrame()\n",
    "\n",
    "for i in storeIndex:\n",
    "    if i in df.index:\n",
    "        paraSet.loc[i, 'rho'] = df.loc[i][\"rho\"]\n",
    "        paraSet.loc[i, 'theta'] = df.loc[i][\"theta\"] \n",
    "        paraSet.loc[i, 'slope'] = df.loc[i][\"slope\"] \n",
    "        paraSet.loc[i, 'key'] = df.loc[i][\"key\"]\n",
    "paraSet"
   ]
  },
  {
   "cell_type": "code",
   "execution_count": 1669,
   "id": "675d70bf",
   "metadata": {},
   "outputs": [],
   "source": [
    "#the intersection points of these sets of parallel lines\n",
    "\n",
    "###i want to get the points of the two lines then multiply those lines by each other\n",
    "##you need rho and theta of those lines\n",
    "##store the intersection points\n",
    "intersectionPoints = []\n",
    "#the lines 𝒍 and 𝒎 intersect at the point 𝒙 = 𝒍 × m\n",
    "\n",
    "for index, row in paraSet.iterrows():\n",
    "    theta1, rho1 = row[\"theta\"], row[\"rho\"]\n",
    "\n",
    "    ##now find the second line\n",
    "    for index2, row2 in paraSet.iterrows():\n",
    "         ###only wanting to get the intersection of the ones which have the same slope, so they are the ones in the same set\n",
    "        if index != index2 and row2[\"slope\"] == row[\"slope\"]:\n",
    "            theta2, rho2 = row2[\"theta\"], row2[\"rho\"] \n",
    "\n",
    "            A = np.array([[np.cos(theta1), np.sin(theta1)], [np.cos(theta2), np.sin(theta2)]])\n",
    "            b = np.array([[rho1], [rho2]])\n",
    "\n",
    "            # solve the least squares problem for the \n",
    "            # intersection point p: Rp = q\n",
    "            x0, y0 = np.linalg.lstsq(A, b, rcond=None)[0]\n",
    "            x0, y0 = int(np.round(x0)), int(np.round(y0))\n",
    "            intersectionPoints.append((x0, y0)) \n"
   ]
  },
  {
   "cell_type": "code",
   "execution_count": 1670,
   "id": "d8bff4dd",
   "metadata": {},
   "outputs": [
    {
     "data": {
      "text/plain": [
       "array([[-32, 304],\n",
       "       [423,  -7]])"
      ]
     },
     "execution_count": 1670,
     "metadata": {},
     "output_type": "execute_result"
    }
   ],
   "source": [
    "##the intersection points of our parallel set chosen\n",
    "intersectionPoints  = np.unique(intersectionPoints, axis=0)\n",
    "intersectionPoints"
   ]
  },
  {
   "cell_type": "code",
   "execution_count": 1671,
   "id": "85ca469a",
   "metadata": {},
   "outputs": [
    {
     "data": {
      "text/plain": [
       "(136, 208)"
      ]
     },
     "execution_count": 1671,
     "metadata": {},
     "output_type": "execute_result"
    }
   ],
   "source": [
    "##the closest for these intersection points\n",
    "meanPointsX = int(np.round(np.mean(intersectionPoints[0])))\n",
    "meanPointsY = int(np.round(np.mean(intersectionPoints[1])))\n",
    "meanPoints = (meanPointsX, meanPointsY)\n",
    "meanPoints"
   ]
  },
  {
   "cell_type": "markdown",
   "id": "3e4433dd",
   "metadata": {},
   "source": [
    "<br>\n",
    "\n",
    "PART 3 \n",
    "\n",
    "<br>"
   ]
  },
  {
   "cell_type": "code",
   "execution_count": 1672,
   "id": "9d669a2a",
   "metadata": {},
   "outputs": [],
   "source": [
    "####drawing the intersection points on the image\n",
    "cv2.circle(img, intersectionPoints[0], radius=4, color=(100, 0, 255),thickness=-1)\n",
    "cv2.circle(img, intersectionPoints[1], radius=4, color=(100, 0, 0),thickness=-1)\n",
    "\n",
    "###line for connecting the intersecting points together\n",
    "cv2.line(img, (intersectionPoints[0][0], intersectionPoints[0][1]), (intersectionPoints[1][0], intersectionPoints[1][1]), (0, 0, 0), 1)\n",
    "cv2.imshow('image', img)\n",
    "cv2.waitKey(0)\n",
    "cv2.destroyAllWindows()"
   ]
  },
  {
   "cell_type": "code",
   "execution_count": 1673,
   "id": "0a392bf6",
   "metadata": {},
   "outputs": [],
   "source": [
    "###as to be in float format for wrap\n",
    "\n",
    "intersectionPoints1 = np.float32(intersectionPoints[0][0])\n",
    "intersectionPoints2 = np.float32(intersectionPoints[0][1])\n",
    "intersectionPoints3 = np.float32(intersectionPoints[1][0])\n",
    "intersectionPoints4 = np.float32(intersectionPoints[1][1])"
   ]
  },
  {
   "cell_type": "code",
   "execution_count": 1674,
   "id": "2104dc08",
   "metadata": {},
   "outputs": [],
   "source": [
    "# Compute the translation vector?? not sure if this is right\n",
    "dx = intersectionPoints3  - intersectionPoints1\n",
    "dy = intersectionPoints4  - intersectionPoints2 \n",
    "\n",
    "# Load the image\n",
    "image = cv2.imread('input_image.jpg')\n",
    "\n",
    "# Apply the translation transformation to the image\n",
    "M = np.float32([[1, 0, intersectionPoints1], [0, 1, intersectionPoints2]])\n",
    "result = cv2.warpAffine(img, M, (img.shape[1], img.shape[0]),  flags=cv2.INTER_LINEAR)\n",
    "cv2.imshow('image', result )\n",
    "cv2.waitKey(0)\n",
    "cv2.destroyAllWindows()"
   ]
  },
  {
   "cell_type": "code",
   "execution_count": 1675,
   "id": "eab3944d",
   "metadata": {},
   "outputs": [
    {
     "data": {
      "image/png": "[encoded data removed]",
      "text/plain": [
       "<Figure size 432x288 with 1 Axes>"
      ]
     },
     "metadata": {
      "needs_background": "light"
     },
     "output_type": "display_data"
    }
   ],
   "source": [
    "\n",
    "# Load and plot the image\n",
    "plt.imshow(img)\n",
    "# Plot the intersection points\n",
    "for point in intersectionPoints:\n",
    "    plt.plot(point[0], point[1], 'ro') \n",
    "plt.show()"
   ]
  },
  {
   "cell_type": "markdown",
   "id": "961b8be6",
   "metadata": {},
   "source": [
    "Since the window is 1m^2, then the length and width of the window is 1m^2 by themselves.<br><br>\n",
    "The door area would be 2m^2, since the height is double the size of the window height, so the height of the door would be 2m^2 and the width is the same as the window width, so the width of the door is 1m^2."
   ]
  }
 ],
 "metadata": {
  "kernelspec": {
   "display_name": "Python 3",
   "language": "python",
   "name": "python3"
  },
  "language_info": {
   "codemirror_mode": {
    "name": "ipython",
    "version": 3
   },
   "file_extension": ".py",
   "mimetype": "text/x-python",
   "name": "python",
   "nbconvert_exporter": "python",
   "pygments_lexer": "ipython3",
   "version": "3.8.8"
  }
 },
 "nbformat": 4,
 "nbformat_minor": 5
}
