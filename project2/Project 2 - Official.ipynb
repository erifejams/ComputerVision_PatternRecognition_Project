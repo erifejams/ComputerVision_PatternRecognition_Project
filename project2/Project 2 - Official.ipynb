{
 "cells": [
  {
   "cell_type": "markdown",
   "metadata": {},
   "source": [
    "Team members: Erifeoluwa Jamgbadi and Krunal Rathod\n",
    "\n",
    "<br>\n",
    "The provided code performs computer vision tasks related to camera calibration and reconstruction."
   ]
  },
  {
   "cell_type": "code",
   "execution_count": 22,
   "metadata": {},
   "outputs": [],
   "source": [
    "import cv2\n",
    "import numpy as np\n"
   ]
  },
  {
   "cell_type": "code",
   "execution_count": 23,
   "metadata": {},
   "outputs": [],
   "source": [
    "world_coords = np.loadtxt('coords.txt')"
   ]
  },
  {
   "cell_type": "markdown",
   "metadata": {},
   "source": [
    "<br>\n",
    "\n",
    "HOUSE 1\n",
    "\n",
    "<br>"
   ]
  },
  {
   "cell_type": "code",
   "execution_count": 24,
   "metadata": {},
   "outputs": [
    {
     "name": "stdout",
     "output_type": "stream",
     "text": [
      "Camera Calibration Matrix K:\n",
      "[[-7.67528793e-02  9.97050152e-01 -3.20254800e-03]\n",
      " [-9.97055234e-01 -7.67536069e-02 -1.04733713e-04]\n",
      " [-3.50230077e-04  3.18506228e-03  1.00000000e+00]]\n",
      "\n",
      "Camera Orientation R:\n",
      "[[-6.94483090e-01  7.15134398e-01  3.95280664e-03]\n",
      " [ 0.00000000e+00  5.54553704e-02 -5.64215539e-02]\n",
      " [ 0.00000000e+00  0.00000000e+00 -6.54298630e-04]]\n",
      "\n",
      "Camera Center C:\n",
      "[ 4.35729548e-04 -4.52381428e-04  1.89632465e-06]\n"
     ]
    }
   ],
   "source": [
    "\n",
    "\n",
    "# Load the image and read the world coordinates\n",
    "image = cv2.imread('house1.png')\n",
    "\n",
    "# Display the image and allow user to select 10 points\n",
    "points = []\n",
    "\n",
    "def select_point(event, x, y, flags, param):\n",
    "    if event == cv2.EVENT_LBUTTONDOWN and len(points) < 10:\n",
    "        points.append((x, y))\n",
    "        cv2.circle(image, (x, y), 5, (0, 0, 255), -1)\n",
    "        cv2.putText(image, str(len(points)), (x + 10, y), cv2.FONT_HERSHEY_SIMPLEX, 0.5, (0, 0, 255), 2)\n",
    "        cv2.imshow(\"Image\", image)\n",
    "\n",
    "cv2.namedWindow(\"Image\")\n",
    "cv2.setMouseCallback(\"Image\", select_point)\n",
    "\n",
    "while True:\n",
    "    cv2.imshow(\"Image\", image)\n",
    "    if cv2.waitKey(0) or len(points) == 10:  # Press Esc or select 10 points to exit\n",
    "        break\n",
    "\n",
    "cv2.destroyAllWindows()\n",
    "\n",
    "\n",
    "# Convert selected points to numpy array\n",
    "selected_points = np.array(points)\n",
    "\n",
    "# Task 1: Find the closest intersection point for each selected point\n",
    "intersection_points = []\n",
    "\n",
    "for x, y in selected_points:\n",
    "    min_distance = float('inf')\n",
    "    closest_point = None\n",
    "\n",
    "    for X, Y, _, _ in world_coords:\n",
    "        distance = np.sqrt((X - x) ** 2 + (Y - y) ** 2)\n",
    "\n",
    "        if distance < min_distance:\n",
    "            min_distance = distance\n",
    "            closest_point = (X, Y)\n",
    "\n",
    "    intersection_points.append(closest_point)\n",
    "\n",
    "intersection_points = np.array(intersection_points)\n",
    "\n",
    "# Task 2: Reconstruct the projection matrix P using the DLT algorithm\n",
    "A = np.zeros((2 * len(intersection_points), 12))\n",
    "\n",
    "for i, (X, Y) in enumerate(intersection_points):\n",
    "    x, y = selected_points[i]\n",
    "    A[2 * i, :3] = [X, Y, 1]\n",
    "    A[2 * i, 6:9] = [-x * X, -x * Y, -x]\n",
    "\n",
    "    A[2 * i + 1, 3:6] = [X, Y, 1]\n",
    "    A[2 * i + 1, 9:12] = [-y * X, -y * Y, -y]\n",
    "\n",
    "_, _, V = np.linalg.svd(A)\n",
    "P = V[-1].reshape(3, 4)\n",
    "\n",
    "# Task 3: Recover the camera calibration matrix K, the camera orientation R, and the camera center C from P\n",
    "K, R = np.linalg.qr(P[:, :3])\n",
    "K /= K[2, 2]  # Ensure that K has a positive diagonal\n",
    "\n",
    "T = np.linalg.inv(K) @ P[:, 3]\n",
    "C = -R.T @ T\n",
    "\n",
    "print(\"Camera Calibration Matrix K:\")\n",
    "print(K)\n",
    "print(\"\\nCamera Orientation R:\")\n",
    "print(R)\n",
    "print(\"\\nCamera Center C:\")\n",
    "print(C)\n"
   ]
  },
  {
   "cell_type": "markdown",
   "metadata": {},
   "source": [
    "<br>\n",
    "\n",
    "HOUSE 2\n",
    "\n",
    "<br>"
   ]
  },
  {
   "cell_type": "code",
   "execution_count": 25,
   "metadata": {},
   "outputs": [
    {
     "name": "stdout",
     "output_type": "stream",
     "text": [
      "Camera Calibration Matrix K:\n",
      "[[-0.23891906  0.97105804  0.02880411]\n",
      " [-0.97148458 -0.23884594 -0.0060031 ]\n",
      " [ 0.00104994 -0.02940428  1.        ]]\n",
      "\n",
      "Camera Orientation R:\n",
      "[[-0.69363768  0.6764439   0.04309122]\n",
      " [ 0.          0.1709669  -0.17373279]\n",
      " [ 0.          0.         -0.00345399]]\n",
      "\n",
      "Camera Center C:\n",
      "[-7.02880056e-04  7.47720836e-04 -1.00207122e-05]\n"
     ]
    }
   ],
   "source": [
    "\n",
    "\n",
    "# Load the image and read the world coordinates\n",
    "image = cv2.imread('house2.png')\n",
    "\n",
    "# Display the image and allow user to select 10 points\n",
    "points = []\n",
    "\n",
    "def select_point(event, x, y, flags, param):\n",
    "    if event == cv2.EVENT_LBUTTONDOWN and len(points) < 10:\n",
    "        points.append((x, y))\n",
    "        cv2.circle(image, (x, y), 5, (0, 0, 255), -1)\n",
    "        cv2.putText(image, str(len(points)), (x + 10, y), cv2.FONT_HERSHEY_SIMPLEX, 0.5, (0, 0, 255), 2)\n",
    "        cv2.imshow(\"Image\", image)\n",
    "\n",
    "cv2.namedWindow(\"Image\")\n",
    "cv2.setMouseCallback(\"Image\", select_point)\n",
    "\n",
    "while True:\n",
    "    cv2.imshow(\"Image\", image)\n",
    "    if cv2.waitKey(0) or len(points) == 10:  # Press Esc or select 10 points to exit\n",
    "        break\n",
    "\n",
    "cv2.destroyAllWindows()\n",
    "\n",
    "\n",
    "# Convert selected points to numpy array\n",
    "selected_points = np.array(points)\n",
    "\n",
    "\n",
    "# TASK 1: Find the closest intersection point for each selected point\n",
    "intersection_points = []\n",
    "\n",
    "for x, y in selected_points:\n",
    "    min_distance = float('inf')\n",
    "    closest_point = None\n",
    "\n",
    "    for X, Y, _, _ in world_coords:\n",
    "        distance = np.sqrt((X - x) ** 2 + (Y - y) ** 2)\n",
    "\n",
    "        if distance < min_distance:\n",
    "            min_distance = distance\n",
    "            closest_point = (X, Y)\n",
    "\n",
    "    intersection_points.append(closest_point)\n",
    "\n",
    "intersection_points = np.array(intersection_points)\n",
    "\n",
    "\n",
    "\n",
    "# TASK 2: Reconstruct the projection matrix P using the DLT algorithm\n",
    "A = np.zeros((2 * len(intersection_points), 12))\n",
    "\n",
    "for i, (X, Y) in enumerate(intersection_points):\n",
    "    x, y = selected_points[i]\n",
    "    A[2 * i, :3] = [X, Y, 1]\n",
    "    A[2 * i, 6:9] = [-x * X, -x * Y, -x]\n",
    "\n",
    "    A[2 * i + 1, 3:6] = [X, Y, 1]\n",
    "    A[2 * i + 1, 9:12] = [-y * X, -y * Y, -y]\n",
    "\n",
    "_, _, V = np.linalg.svd(A)\n",
    "P = V[-1].reshape(3, 4)\n",
    "\n",
    "\n",
    "\n",
    "# TASK 3: Recover the camera calibration matrix K, the camera orientation R, and the camera center C from P\n",
    "K, R = np.linalg.qr(P[:, :3])\n",
    "K /= K[2, 2]  # Ensure that K has a positive diagonal\n",
    "\n",
    "T = np.linalg.inv(K) @ P[:, 3]\n",
    "C = -R.T @ T\n",
    "\n",
    "print(\"Camera Calibration Matrix K:\")\n",
    "print(K)\n",
    "print(\"\\nCamera Orientation R:\")\n",
    "print(R)\n",
    "print(\"\\nCamera Center C:\")\n",
    "print(C)\n"
   ]
  }
 ],
 "metadata": {
  "kernelspec": {
   "display_name": "Python 3",
   "language": "python",
   "name": "python3"
  },
  "language_info": {
   "codemirror_mode": {
    "name": "ipython",
    "version": 3
   },
   "file_extension": ".py",
   "mimetype": "text/x-python",
   "name": "python",
   "nbconvert_exporter": "python",
   "pygments_lexer": "ipython3",
   "version": "3.8.8"
  },
  "vscode": {
   "interpreter": {
    "hash": "0027032a930bf69e6943e231527c49e16033c443b60c7e8c3c00fc3616754ea1"
   }
  }
 },
 "nbformat": 4,
 "nbformat_minor": 2
}
