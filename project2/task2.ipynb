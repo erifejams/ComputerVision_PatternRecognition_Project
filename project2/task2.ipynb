{
 "cells": [
  {
   "cell_type": "code",
   "execution_count": 4,
   "metadata": {},
   "outputs": [],
   "source": [
    "import cv2\n",
    "import numpy as np\n",
    "\n",
    "def compute_intersection_points(lines):\n",
    "    intersection_points = []\n",
    "    \n",
    "    for i in range(len(lines)):\n",
    "        rho1, theta1 = lines[i][0]\n",
    "        \n",
    "        for j in range(i+1, len(lines)):\n",
    "            rho2, theta2 = lines[j][0]\n",
    "            \n",
    "            # Compute intersection point\n",
    "            A = np.array([[np.cos(theta1), np.sin(theta1)], [np.cos(theta2), np.sin(theta2)]])\n",
    "            b = np.array([rho1, rho2])\n",
    "            \n",
    "            try:\n",
    "                x, y = np.linalg.solve(A, b)\n",
    "                intersection_points.append((x, y))\n",
    "            except np.linalg.LinAlgError:\n",
    "                continue\n",
    "                \n",
    "    return intersection_points\n",
    "\n",
    "# Load the image\n",
    "image = cv2.imread('house1.png')\n",
    "\n",
    "# Convert the image to grayscale\n",
    "gray = cv2.cvtColor(image, cv2.COLOR_BGR2GRAY)\n",
    "\n",
    "# Apply edge detection\n",
    "edges = cv2.Canny(gray, 50, 150, apertureSize=3)\n",
    "\n",
    "# Apply Hough line detection\n",
    "lines = cv2.HoughLines(edges, 1, np.pi / 180, threshold=100)\n",
    "\n",
    "# Compute intersection points of parallel lines\n",
    "intersection_points = compute_intersection_points(lines)\n",
    "\n",
    "# Find the average of all intersection points using the least squares method\n",
    "avg_intersection_point = np.mean(intersection_points, axis=0)\n",
    "\n",
    "# Display the image with detected lines and intersection points\n",
    "for line in lines:\n",
    "    rho, theta = line[0]\n",
    "    a = np.cos(theta)\n",
    "    b = np.sin(theta)\n",
    "    x0 = a * rho\n",
    "    y0 = b * rho\n",
    "    x1 = int(x0 + 1000 * (-b))\n",
    "    y1 = int(y0 + 1000 * (a))\n",
    "    x2 = int(x0 - 1000 * (-b))\n",
    "    y2 = int(y0 - 1000 * (a))\n",
    "    cv2.line(image, (x1, y1), (x2, y2), (0, 0, 255), 2)\n",
    "\n",
    "for point in intersection_points:\n",
    "    cv2.circle(image, (int(point[0]), int(point[1])), 5, (0, 255, 0), -1)\n",
    "\n",
    "cv2.circle(image, (int(avg_intersection_point[0]), int(avg_intersection_point[1])), 10, (255, 0, 0), -1)\n",
    "\n",
    "# Display the image with detected lines and intersection points\n",
    "cv2.imshow('Intersection Points', image)\n",
    "cv2.waitKey(0)\n",
    "cv2.destroyAllWindows()\n"
   ]
  }
 ],
 "metadata": {
  "kernelspec": {
   "display_name": "Python 3.9.12 ('robotic_Arm')",
   "language": "python",
   "name": "python3"
  },
  "language_info": {
   "codemirror_mode": {
    "name": "ipython",
    "version": 3
   },
   "file_extension": ".py",
   "mimetype": "text/x-python",
   "name": "python",
   "nbconvert_exporter": "python",
   "pygments_lexer": "ipython3",
   "version": "3.9.12"
  },
  "orig_nbformat": 4,
  "vscode": {
   "interpreter": {
    "hash": "0027032a930bf69e6943e231527c49e16033c443b60c7e8c3c00fc3616754ea1"
   }
  }
 },
 "nbformat": 4,
 "nbformat_minor": 2
}
